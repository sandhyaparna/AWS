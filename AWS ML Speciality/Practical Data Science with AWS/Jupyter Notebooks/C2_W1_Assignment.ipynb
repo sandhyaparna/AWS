{
 "cells": [
  {
   "cell_type": "markdown",
   "metadata": {},
   "source": [
    "# Feature transformation with Amazon SageMaker processing job and Feature Store\n",
    "\n",
    "### Introduction\n",
    "\n",
    "In this lab you will start with the raw [Women's Clothing Reviews](https://www.kaggle.com/nicapotato/womens-ecommerce-clothing-reviews) dataset and prepare it to train a BERT-based natural language processing (NLP) model. The model will be used to classify customer reviews into positive (1), neutral (0) and negative (-1) sentiment.\n",
    "\n",
    "You will convert the original review text into machine-readable features used by BERT. To perform the required feature transformation you will configure an Amazon SageMaker processing job, which will be running a custom Python script.\n",
    "\n",
    "### Table of Contents\n",
    "\n",
    "- [1. Configure the SageMaker Feature Store](#c2w1-1.)\n",
    "  - [1.1. Configure dataset](#c2w1-1.1.)\n",
    "  - [1.2. Configure the SageMaker feature store](#c2w1-1.2.)\n",
    "    - [Exercise 1](#c2w1-ex-1)\n",
    "- [2. Transform the dataset](#c2w1-2.)\n",
    "    - [Exercise 2](#c2w1-ex-2)\n",
    "    - [Exercise 3](#c2w1-ex-3)\n",
    "- [3. Query the Feature Store](#c2w1-3.)\n",
    "  - [3.1. Export training, validation, and test datasets from the Feature Store](#c2w1-3.1.)\n",
    "    - [Exercise 4](#c2w1-ex-4)\n",
    "  - [3.2. Export TSV from Feature Store](#c2w1-3.2.)\n",
    "  - [3.3. Check that the dataset in the Feature Store is balanced by sentiment](#c2w1-3.3.)\n",
    "    - [Exercise 5](#c2w1-ex-5)\n",
    "    - [Exercise 6](#c2w1-ex-6)\n",
    "    - [Exercise 7](#c2w1-ex-7)\n",
    "\n"
   ]
  },
  {
   "cell_type": "code",
   "execution_count": 1,
   "metadata": {},
   "outputs": [
    {
     "name": "stdout",
     "output_type": "stream",
     "text": [
      "/opt/conda/lib/python3.7/site-packages/secretstorage/dhcrypto.py:16: CryptographyDeprecationWarning: int_from_bytes is deprecated, use int.from_bytes instead\n",
      "  from cryptography.utils import int_from_bytes\n",
      "/opt/conda/lib/python3.7/site-packages/secretstorage/util.py:25: CryptographyDeprecationWarning: int_from_bytes is deprecated, use int.from_bytes instead\n",
      "  from cryptography.utils import int_from_bytes\n",
      "\u001b[33mWARNING: Running pip as the 'root' user can result in broken permissions and conflicting behaviour with the system package manager. It is recommended to use a virtual environment instead: https://pip.pypa.io/warnings/venv\u001b[0m\n",
      "Collecting package metadata (current_repodata.json): ...working... done\n",
      "Solving environment: ...working... done\n",
      "\n",
      "## Package Plan ##\n",
      "\n",
      "  environment location: /opt/conda\n",
      "\n",
      "  added / updated specs:\n",
      "    - pytorch==1.6.0\n",
      "\n",
      "\n",
      "The following packages will be downloaded:\n",
      "\n",
      "    package                    |            build\n",
      "    ---------------------------|-----------------\n",
      "    ca-certificates-2021.7.5   |       h06a4308_1         113 KB\n",
      "    certifi-2021.5.30          |   py37h06a4308_0         139 KB\n",
      "    cudatoolkit-10.2.89        |       hfd86e86_1       365.1 MB\n",
      "    ninja-1.10.2               |       hff7bd54_1         1.4 MB\n",
      "    pytorch-1.6.0              |py3.7_cuda10.2.89_cudnn7.6.5_0       537.7 MB  pytorch\n",
      "    ------------------------------------------------------------\n",
      "                                           Total:       904.5 MB\n",
      "\n",
      "The following NEW packages will be INSTALLED:\n",
      "\n",
      "  cudatoolkit        pkgs/main/linux-64::cudatoolkit-10.2.89-hfd86e86_1\n",
      "  ninja              pkgs/main/linux-64::ninja-1.10.2-hff7bd54_1\n",
      "  pytorch            pytorch/linux-64::pytorch-1.6.0-py3.7_cuda10.2.89_cudnn7.6.5_0\n",
      "\n",
      "The following packages will be UPDATED:\n",
      "\n",
      "  ca-certificates    conda-forge::ca-certificates-2021.5.3~ --> pkgs/main::ca-certificates-2021.7.5-h06a4308_1\n",
      "\n",
      "The following packages will be SUPERSEDED by a higher-priority channel:\n",
      "\n",
      "  certifi            conda-forge::certifi-2021.5.30-py37h8~ --> pkgs/main::certifi-2021.5.30-py37h06a4308_0\n",
      "\n",
      "\n",
      "Preparing transaction: ...working... done\n",
      "Verifying transaction: ...working... done\n",
      "Executing transaction: ...working... done\n",
      "/opt/conda/lib/python3.7/site-packages/secretstorage/dhcrypto.py:16: CryptographyDeprecationWarning: int_from_bytes is deprecated, use int.from_bytes instead\n",
      "  from cryptography.utils import int_from_bytes\n",
      "/opt/conda/lib/python3.7/site-packages/secretstorage/util.py:25: CryptographyDeprecationWarning: int_from_bytes is deprecated, use int.from_bytes instead\n",
      "  from cryptography.utils import int_from_bytes\n",
      "\u001b[33mWARNING: Running pip as the 'root' user can result in broken permissions and conflicting behaviour with the system package manager. It is recommended to use a virtual environment instead: https://pip.pypa.io/warnings/venv\u001b[0m\n"
     ]
    }
   ],
   "source": [
    "# please ignore warning messages during the installation\n",
    "!pip install --disable-pip-version-check -q sagemaker==2.35.0\n",
    "!conda install -q -y pytorch==1.6.0 -c pytorch\n",
    "!pip install --disable-pip-version-check -q transformers==3.5.1"
   ]
  },
  {
   "cell_type": "code",
   "execution_count": 2,
   "metadata": {},
   "outputs": [],
   "source": [
    "import boto3\n",
    "import sagemaker\n",
    "import botocore\n",
    "\n",
    "config = botocore.config.Config(user_agent_extra='dlai-pds/c2/w1')\n",
    "\n",
    "# low-level service client of the boto3 session\n",
    "sm = boto3.client(service_name='sagemaker', \n",
    "                  config=config)\n",
    "\n",
    "featurestore_runtime = boto3.client(service_name='sagemaker-featurestore-runtime', \n",
    "                                    config=config)\n",
    "\n",
    "sess = sagemaker.Session(sagemaker_client=sm,\n",
    "                         sagemaker_featurestore_runtime_client=featurestore_runtime)\n",
    "\n",
    "bucket = sess.default_bucket()\n",
    "role = sagemaker.get_execution_role()\n",
    "region = sess.boto_region_name"
   ]
  },
  {
   "cell_type": "markdown",
   "metadata": {},
   "source": [
    "<a name='c2w1-1.'></a>\n",
    "# 1. Configure the SageMaker Feature Store"
   ]
  },
  {
   "cell_type": "markdown",
   "metadata": {},
   "source": [
    "<a name='c2w1-1.1.'></a>\n",
    "### 1.1. Configure dataset\n",
    "The raw dataset is in the public S3 bucket. Let's start by specifying the S3 location of it:"
   ]
  },
  {
   "cell_type": "code",
   "execution_count": 3,
   "metadata": {},
   "outputs": [
    {
     "name": "stdout",
     "output_type": "stream",
     "text": [
      "s3://dlai-practical-data-science/data/raw/\n"
     ]
    }
   ],
   "source": [
    "raw_input_data_s3_uri = 's3://dlai-practical-data-science/data/raw/'\n",
    "print(raw_input_data_s3_uri)"
   ]
  },
  {
   "cell_type": "markdown",
   "metadata": {},
   "source": [
    "List the files in the S3 bucket (in this case it will be just one file):"
   ]
  },
  {
   "cell_type": "code",
   "execution_count": 4,
   "metadata": {},
   "outputs": [
    {
     "name": "stdout",
     "output_type": "stream",
     "text": [
      "2021-04-30 02:21:06    8457214 womens_clothing_ecommerce_reviews.csv\n"
     ]
    }
   ],
   "source": [
    "!aws s3 ls $raw_input_data_s3_uri"
   ]
  },
  {
   "cell_type": "markdown",
   "metadata": {},
   "source": [
    "<a name='c2w1-1.2.'></a>\n",
    "### 1.2. Configure the SageMaker feature store\n",
    "\n",
    "As the result of the transformation, in addition to generating files in S3 bucket, you will also save the transformed data in the **Amazon SageMaker Feature Store** to be used by others in your organization, for example. \n",
    "\n",
    "To configure a Feature Store you need to setup a **Feature Group**. This is the main resource containing all of the metadata related to the data stored in the Feature Store. A Feature Group should contain a list of **Feature Definitions**. A Feature Definition consists of a name and the data type. The Feature Group also contains an online store configuration and an offline store configuration controlling where the data is stored. Enabling the online store allows quick access to the latest value for a record via the [GetRecord API](https://docs.aws.amazon.com/sagemaker/latest/APIReference/API_feature_store_GetRecord.html). The offline store allows storage of the data in your S3 bucket. You will be using the offline store in this lab.\n",
    "\n",
    "Let's setup the Feature Group name and the Feature Store offline prefix in S3 bucket (you will use those later in the lab):"
   ]
  },
  {
   "cell_type": "code",
   "execution_count": 5,
   "metadata": {},
   "outputs": [
    {
     "name": "stdout",
     "output_type": "stream",
     "text": [
      "Feature group name: reviews-feature-group-1629056126\n",
      "Feature store offline prefix in S3: reviews-feature-store-1629056126\n"
     ]
    }
   ],
   "source": [
    "import time\n",
    "timestamp = int(time.time())\n",
    "\n",
    "feature_group_name = 'reviews-feature-group-' + str(timestamp)\n",
    "feature_store_offline_prefix = 'reviews-feature-store-' + str(timestamp)\n",
    "\n",
    "print('Feature group name: {}'.format(feature_group_name))\n",
    "print('Feature store offline prefix in S3: {}'.format(feature_store_offline_prefix))"
   ]
  },
  {
   "cell_type": "markdown",
   "metadata": {},
   "source": [
    "Taking two features from the original raw dataset (`Review Text` and `Rating`), you will transform it preparing to be used for the model training and then to be saved in the Feature Store. Here you will define the related features to be stored as a list of `FeatureDefinition`."
   ]
  },
  {
   "cell_type": "code",
   "execution_count": 6,
   "metadata": {},
   "outputs": [],
   "source": [
    "from sagemaker.feature_store.feature_definition import (\n",
    "    FeatureDefinition,\n",
    "    FeatureTypeEnum,\n",
    ")\n",
    "\n",
    "feature_definitions= [\n",
    "    # unique ID of the review\n",
    "    FeatureDefinition(feature_name='review_id', feature_type=FeatureTypeEnum.STRING), \n",
    "    # ingestion timestamp\n",
    "    FeatureDefinition(feature_name='date', feature_type=FeatureTypeEnum.STRING),\n",
    "    # sentiment: -1 (negative), 0 (neutral) or 1 (positive). It will be found the Rating values (1, 2, 3, 4, 5)\n",
    "    FeatureDefinition(feature_name='sentiment', feature_type=FeatureTypeEnum.STRING), \n",
    "    # label ID of the target class (sentiment)\n",
    "    FeatureDefinition(feature_name='label_id', feature_type=FeatureTypeEnum.STRING),\n",
    "    # reviews encoded with the BERT tokenizer\n",
    "    FeatureDefinition(feature_name='input_ids', feature_type=FeatureTypeEnum.STRING),\n",
    "    # original Review Text\n",
    "    FeatureDefinition(feature_name='review_body', feature_type=FeatureTypeEnum.STRING),\n",
    "    # train/validation/test label\n",
    "    FeatureDefinition(feature_name='split_type', feature_type=FeatureTypeEnum.STRING)\n",
    "]"
   ]
  },
  {
   "cell_type": "markdown",
   "metadata": {},
   "source": [
    "<a name='c2w1-ex-1'></a>\n",
    "### Exercise 1\n",
    "\n",
    "Create the feature group using the feature definitions defined above.\n",
    "\n",
    "**Instructions:** Use the `FeatureGroup` function passing the defined above feature group name and the feature definitions.\n",
    "\n",
    "```python\n",
    "feature_group = FeatureGroup(\n",
    "    name=..., # Feature Group name\n",
    "    feature_definitions=..., # a list of Feature Definitions\n",
    "    sagemaker_session=sess # SageMaker session\n",
    ")\n",
    "```"
   ]
  },
  {
   "cell_type": "code",
   "execution_count": 7,
   "metadata": {},
   "outputs": [
    {
     "name": "stdout",
     "output_type": "stream",
     "text": [
      "FeatureGroup(name='reviews-feature-group-1629056126', sagemaker_session=<sagemaker.session.Session object at 0x7fd202917110>, feature_definitions=[FeatureDefinition(feature_name='review_id', feature_type=<FeatureTypeEnum.STRING: 'String'>), FeatureDefinition(feature_name='date', feature_type=<FeatureTypeEnum.STRING: 'String'>), FeatureDefinition(feature_name='sentiment', feature_type=<FeatureTypeEnum.STRING: 'String'>), FeatureDefinition(feature_name='label_id', feature_type=<FeatureTypeEnum.STRING: 'String'>), FeatureDefinition(feature_name='input_ids', feature_type=<FeatureTypeEnum.STRING: 'String'>), FeatureDefinition(feature_name='review_body', feature_type=<FeatureTypeEnum.STRING: 'String'>), FeatureDefinition(feature_name='split_type', feature_type=<FeatureTypeEnum.STRING: 'String'>)])\n"
     ]
    }
   ],
   "source": [
    "from sagemaker.feature_store.feature_group import FeatureGroup\n",
    "\n",
    "feature_group = FeatureGroup(\n",
    "    ### BEGIN SOLUTION - DO NOT delete this comment for grading purposes\n",
    "    name=feature_group_name, # Replace None\n",
    "    feature_definitions=feature_definitions, # Replace None\n",
    "    ### END SOLUTION - DO NOT delete this comment for grading purposes\n",
    "    sagemaker_session=sess\n",
    ")\n",
    "\n",
    "print(feature_group)"
   ]
  },
  {
   "cell_type": "markdown",
   "metadata": {},
   "source": [
    "You will use the defined Feature Group later in this lab, the actual creation of the Feature Group will take place in the processing job. Now let's move into the setup of the processing job to transform the dataset."
   ]
  },
  {
   "cell_type": "markdown",
   "metadata": {},
   "source": [
    "<a name='c2w1-2.'></a>\n",
    "# 2. Transform the dataset\n",
    "\n",
    "You will configure a SageMaker processing job to run a custom Python script to balance and transform the raw data into a format used by BERT model.\n",
    "\n",
    "Set the transformation parameters including the instance type, instance count, and train/validation/test split percentages. For the purposes of this lab, you will use a relatively small instance type. Please refer to [this](https://aws.amazon.com/sagemaker/pricing/) link for additional instance types that may work for your use case outside of this lab.\n",
    "\n",
    "You can also choose whether you want to balance the dataset or not. In this case, you will balance the dataset to avoid class imbalance in the target variable, `sentiment`. \n",
    "\n",
    "Another important parameter of the model is the `max_seq_length`, which specifies the maximum length of the classified reviews for the RoBERTa model. If the sentence is shorter than the maximum length parameter, it will be padded. In another case, when the sentence is longer, it will be truncated from the right side.\n",
    "\n",
    "Since a smaller `max_seq_length` leads to faster training and lower resource utilization, you want to find the smallest power-of-2 that captures `100%` of our reviews.  For this dataset, the `100th` percentile is `115`.  However, it's best to stick with powers-of-2 when using BERT. So let's choose `128` as this is the smallest power-of-2 greater than `115`. You will see below how the shorter sentences will be padded to a maximum length.\n",
    "\n",
    "\n",
    "```\n",
    "mean        52.512374\n",
    "std         31.387048\n",
    "min          1.000000\n",
    "10%         10.000000\n",
    "20%         22.000000\n",
    "30%         32.000000\n",
    "40%         41.000000\n",
    "50%         51.000000\n",
    "60%         61.000000\n",
    "70%         73.000000\n",
    "80%         88.000000\n",
    "90%         97.000000\n",
    "100%       115.000000\n",
    "max        115.000000\n",
    "```\n",
    "\n",
    "![](images/distribution_num_words_per_review.png)\n"
   ]
  },
  {
   "cell_type": "code",
   "execution_count": 8,
   "metadata": {
    "scrolled": true
   },
   "outputs": [],
   "source": [
    "processing_instance_type='ml.c5.xlarge'\n",
    "processing_instance_count=1\n",
    "train_split_percentage=0.90\n",
    "validation_split_percentage=0.05\n",
    "test_split_percentage=0.05\n",
    "balance_dataset=True\n",
    "max_seq_length=128"
   ]
  },
  {
   "cell_type": "markdown",
   "metadata": {},
   "source": [
    "To balance and transform our data, you will use a scikit-learn-based processing job. This is essentially a generic Python processing job with scikit-learn pre-installed. You can specify the version of scikit-learn you wish to use. Also pass the SageMaker execution role, processing instance type and instance count."
   ]
  },
  {
   "cell_type": "code",
   "execution_count": 9,
   "metadata": {
    "scrolled": true
   },
   "outputs": [],
   "source": [
    "from sagemaker.sklearn.processing import SKLearnProcessor\n",
    "\n",
    "processor = SKLearnProcessor(\n",
    "    framework_version='0.23-1',\n",
    "    role=role,\n",
    "    instance_type=processing_instance_type,\n",
    "    instance_count=processing_instance_count,\n",
    "    env={'AWS_DEFAULT_REGION': region},                             \n",
    "    max_runtime_in_seconds=7200\n",
    ")"
   ]
  },
  {
   "cell_type": "markdown",
   "metadata": {},
   "source": [
    "The processing job will be running the Python code from the file `src/prepare_data.py`. In the following exercise you will review the contents of the file and familiarize yourself with main parts of it. "
   ]
  },
  {
   "cell_type": "markdown",
   "metadata": {},
   "source": [
    "<a name='c2w1-ex-2'></a>\n",
    "### Exercise 2\n",
    "\n",
    "1. Open the file [src/prepare_data.py](src/prepare_data.py). Go through the comments to understand its content.\n",
    "2. Find and review the `convert_to_bert_input_ids()` function, which contains the RoBERTa `tokenizer` configuration.\n",
    "3. Complete method `encode_plus` of the RoBERTa `tokenizer`. Pass the `max_seq_length` as a value for the argument `max_length`. It defines a pad to a maximum length specified.\n",
    "4. Save the file [src/prepare_data.py](src/prepare_data.py) (with the menu command File -> Save Python File)."
   ]
  },
  {
   "cell_type": "markdown",
   "metadata": {},
   "source": [
    "### _This cell will take approximately 1-2 minutes to run._"
   ]
  },
  {
   "cell_type": "code",
   "execution_count": 11,
   "metadata": {},
   "outputs": [
    {
     "data": {
      "application/vnd.jupyter.widget-view+json": {
       "model_id": "c5eb8d9e188f4002808edb87ae04badb",
       "version_major": 2,
       "version_minor": 0
      },
      "text/plain": [
       "HBox(children=(FloatProgress(value=0.0, description='Downloading', max=898823.0, style=ProgressStyle(descripti…"
      ]
     },
     "metadata": {},
     "output_type": "display_data"
    },
    {
     "name": "stdout",
     "output_type": "stream",
     "text": [
      "\n"
     ]
    },
    {
     "data": {
      "application/vnd.jupyter.widget-view+json": {
       "model_id": "7e31717202b247569856808f2fb04029",
       "version_major": 2,
       "version_minor": 0
      },
      "text/plain": [
       "HBox(children=(FloatProgress(value=0.0, description='Downloading', max=456318.0, style=ProgressStyle(descripti…"
      ]
     },
     "metadata": {},
     "output_type": "display_data"
    },
    {
     "name": "stdout",
     "output_type": "stream",
     "text": [
      "\n",
      "##################\n",
      "Updated correctly!\n",
      "##################\n"
     ]
    }
   ],
   "source": [
    "import sys, importlib\n",
    "sys.path.append('src/')\n",
    "\n",
    "# import the `prepare_data.py` module\n",
    "import prepare_data\n",
    "\n",
    "# reload the module if it has been previously loaded \n",
    "if 'prepare_data' in sys.modules:\n",
    "    importlib.reload(prepare_data)\n",
    "\n",
    "input_ids = prepare_data.convert_to_bert_input_ids(\"this product is great!\", max_seq_length)\n",
    "    \n",
    "updated_correctly = False\n",
    "\n",
    "if len(input_ids) != max_seq_length:\n",
    "    print('#######################################################################################################')\n",
    "    print('Please check that the function \\'convert_to_bert_input_ids\\' in the file src/prepare_data.py is complete.')\n",
    "    print('#######################################################################################################')\n",
    "    raise Exception('Please check that the function \\'convert_to_bert_input_ids\\' in the file src/prepare_data.py is complete.')\n",
    "else:\n",
    "    print('##################')\n",
    "    print('Updated correctly!')\n",
    "    print('##################')\n",
    "\n",
    "    updated_correctly = True"
   ]
  },
  {
   "cell_type": "markdown",
   "metadata": {},
   "source": [
    "Review the results of tokenization for the given example (*\\\"this product is great!\\\"*):"
   ]
  },
  {
   "cell_type": "code",
   "execution_count": 12,
   "metadata": {},
   "outputs": [
    {
     "name": "stdout",
     "output_type": "stream",
     "text": [
      "[0, 9226, 1152, 16, 372, 328, 2, 1, 1, 1, 1, 1, 1, 1, 1, 1, 1, 1, 1, 1, 1, 1, 1, 1, 1, 1, 1, 1, 1, 1, 1, 1, 1, 1, 1, 1, 1, 1, 1, 1, 1, 1, 1, 1, 1, 1, 1, 1, 1, 1, 1, 1, 1, 1, 1, 1, 1, 1, 1, 1, 1, 1, 1, 1, 1, 1, 1, 1, 1, 1, 1, 1, 1, 1, 1, 1, 1, 1, 1, 1, 1, 1, 1, 1, 1, 1, 1, 1, 1, 1, 1, 1, 1, 1, 1, 1, 1, 1, 1, 1, 1, 1, 1, 1, 1, 1, 1, 1, 1, 1, 1, 1, 1, 1, 1, 1, 1, 1, 1, 1, 1, 1, 1, 1, 1, 1, 1, 1]\n",
      "Length of the sequence: 128\n"
     ]
    }
   ],
   "source": [
    "input_ids = prepare_data.convert_to_bert_input_ids(\"this product is great!\", max_seq_length)\n",
    "\n",
    "print(input_ids)\n",
    "print('Length of the sequence: {}'.format(len(input_ids)))"
   ]
  },
  {
   "cell_type": "markdown",
   "metadata": {},
   "source": [
    "Launch the processing job with the custom script passing defined above parameters."
   ]
  },
  {
   "cell_type": "code",
   "execution_count": 13,
   "metadata": {},
   "outputs": [
    {
     "name": "stdout",
     "output_type": "stream",
     "text": [
      "\n",
      "Job Name:  sagemaker-scikit-learn-2021-08-15-19-45-04-902\n",
      "Inputs:  [{'InputName': 'input-1', 'AppManaged': False, 'S3Input': {'S3Uri': 's3://dlai-practical-data-science/data/raw/', 'LocalPath': '/opt/ml/processing/input/data/', 'S3DataType': 'S3Prefix', 'S3InputMode': 'File', 'S3DataDistributionType': 'ShardedByS3Key', 'S3CompressionType': 'None'}}, {'InputName': 'code', 'AppManaged': False, 'S3Input': {'S3Uri': 's3://sagemaker-us-east-1-421851816171/sagemaker-scikit-learn-2021-08-15-19-45-04-902/input/code/prepare_data.py', 'LocalPath': '/opt/ml/processing/input/code', 'S3DataType': 'S3Prefix', 'S3InputMode': 'File', 'S3DataDistributionType': 'FullyReplicated', 'S3CompressionType': 'None'}}]\n",
      "Outputs:  [{'OutputName': 'sentiment-train', 'AppManaged': False, 'S3Output': {'S3Uri': 's3://sagemaker-us-east-1-421851816171/sagemaker-scikit-learn-2021-08-15-19-45-04-902/output/sentiment-train', 'LocalPath': '/opt/ml/processing/output/sentiment/train', 'S3UploadMode': 'EndOfJob'}}, {'OutputName': 'sentiment-validation', 'AppManaged': False, 'S3Output': {'S3Uri': 's3://sagemaker-us-east-1-421851816171/sagemaker-scikit-learn-2021-08-15-19-45-04-902/output/sentiment-validation', 'LocalPath': '/opt/ml/processing/output/sentiment/validation', 'S3UploadMode': 'EndOfJob'}}, {'OutputName': 'sentiment-test', 'AppManaged': False, 'S3Output': {'S3Uri': 's3://sagemaker-us-east-1-421851816171/sagemaker-scikit-learn-2021-08-15-19-45-04-902/output/sentiment-test', 'LocalPath': '/opt/ml/processing/output/sentiment/test', 'S3UploadMode': 'EndOfJob'}}]\n"
     ]
    }
   ],
   "source": [
    "from sagemaker.processing import ProcessingInput, ProcessingOutput\n",
    "\n",
    "if (updated_correctly):\n",
    "\n",
    "    processor.run(code='src/prepare_data.py',\n",
    "              inputs=[\n",
    "                    ProcessingInput(source=raw_input_data_s3_uri,\n",
    "                                    destination='/opt/ml/processing/input/data/',\n",
    "                                    s3_data_distribution_type='ShardedByS3Key')\n",
    "              ],\n",
    "              outputs=[\n",
    "                    ProcessingOutput(output_name='sentiment-train',\n",
    "                                     source='/opt/ml/processing/output/sentiment/train',\n",
    "                                     s3_upload_mode='EndOfJob'),\n",
    "                    ProcessingOutput(output_name='sentiment-validation',\n",
    "                                     source='/opt/ml/processing/output/sentiment/validation',\n",
    "                                     s3_upload_mode='EndOfJob'),\n",
    "                    ProcessingOutput(output_name='sentiment-test',\n",
    "                                     source='/opt/ml/processing/output/sentiment/test',\n",
    "                                     s3_upload_mode='EndOfJob')\n",
    "              ],\n",
    "              arguments=['--train-split-percentage', str(train_split_percentage),\n",
    "                         '--validation-split-percentage', str(validation_split_percentage),\n",
    "                         '--test-split-percentage', str(test_split_percentage),\n",
    "                         '--balance-dataset', str(balance_dataset),\n",
    "                         '--max-seq-length', str(max_seq_length),                         \n",
    "                         '--feature-store-offline-prefix', str(feature_store_offline_prefix),\n",
    "                         '--feature-group-name', str(feature_group_name)                         \n",
    "              ],\n",
    "              logs=True,\n",
    "              wait=False)\n",
    "\n",
    "else:\n",
    "    print('#######################################')\n",
    "    print('Please update the code correctly above.')\n",
    "    print('#######################################')    "
   ]
  },
  {
   "cell_type": "markdown",
   "metadata": {},
   "source": [
    "You can see the information about the processing jobs using the `describe` function. The result is in dictionary format. Let's pull the processing job name:"
   ]
  },
  {
   "cell_type": "code",
   "execution_count": 14,
   "metadata": {
    "scrolled": true
   },
   "outputs": [
    {
     "name": "stdout",
     "output_type": "stream",
     "text": [
      "Processing job name: sagemaker-scikit-learn-2021-08-15-19-45-04-902\n"
     ]
    }
   ],
   "source": [
    "scikit_processing_job_name = processor.jobs[-1].describe()['ProcessingJobName']\n",
    "\n",
    "print('Processing job name: {}'.format(scikit_processing_job_name))"
   ]
  },
  {
   "cell_type": "markdown",
   "metadata": {},
   "source": [
    "<a name='c2w1-ex-3'></a>\n",
    "### Exercise 3\n",
    "\n",
    "Pull the processing job status from the processing job description.\n",
    "\n",
    "**Instructions**: Print the keys of the processing job description dictionary, choose the one related to the status of the processing job and print the value of it."
   ]
  },
  {
   "cell_type": "code",
   "execution_count": 15,
   "metadata": {
    "scrolled": true
   },
   "outputs": [
    {
     "name": "stdout",
     "output_type": "stream",
     "text": [
      "dict_keys(['ProcessingInputs', 'ProcessingOutputConfig', 'ProcessingJobName', 'ProcessingResources', 'StoppingCondition', 'AppSpecification', 'Environment', 'RoleArn', 'ProcessingJobArn', 'ProcessingJobStatus', 'LastModifiedTime', 'CreationTime', 'ResponseMetadata'])\n"
     ]
    }
   ],
   "source": [
    "print(processor.jobs[-1].describe().keys())"
   ]
  },
  {
   "cell_type": "code",
   "execution_count": 16,
   "metadata": {
    "scrolled": true
   },
   "outputs": [
    {
     "name": "stdout",
     "output_type": "stream",
     "text": [
      "Processing job status: InProgress\n"
     ]
    }
   ],
   "source": [
    "### BEGIN SOLUTION - DO NOT delete this comment for grading purposes\n",
    "scikit_processing_job_status = processor.jobs[-1].describe()['ProcessingJobStatus'] # Replace None\n",
    "### END SOLUTION - DO NOT delete this comment for grading purposes\n",
    "print('Processing job status: {}'.format(scikit_processing_job_status))"
   ]
  },
  {
   "cell_type": "markdown",
   "metadata": {},
   "source": [
    "Review the created processing job in the AWS console.\n",
    "\n",
    "**Instructions**: \n",
    "- open the link\n",
    "- notice that you are in the section `Amazon SageMaker` -> `Processing jobs`\n",
    "- check the name of the processing job, its status and other available information"
   ]
  },
  {
   "cell_type": "code",
   "execution_count": 17,
   "metadata": {
    "scrolled": true
   },
   "outputs": [
    {
     "data": {
      "text/html": [
       "<b>Review <a target=\"blank\" href=\"https://console.aws.amazon.com/sagemaker/home?region=us-east-1#/processing-jobs/sagemaker-scikit-learn-2021-08-15-19-45-04-902\">processing job</a></b>"
      ],
      "text/plain": [
       "<IPython.core.display.HTML object>"
      ]
     },
     "metadata": {},
     "output_type": "display_data"
    }
   ],
   "source": [
    "from IPython.core.display import display, HTML\n",
    "\n",
    "display(HTML('<b>Review <a target=\"blank\" href=\"https://console.aws.amazon.com/sagemaker/home?region={}#/processing-jobs/{}\">processing job</a></b>'.format(region, scikit_processing_job_name)))"
   ]
  },
  {
   "cell_type": "markdown",
   "metadata": {},
   "source": [
    "Wait for about 5 minutes to review the CloudWatch Logs. You may open the file [src/prepare_data.py](src/prepare_data.py) again and examine the outputs of the code in the CloudWatch logs."
   ]
  },
  {
   "cell_type": "code",
   "execution_count": 18,
   "metadata": {
    "scrolled": true
   },
   "outputs": [
    {
     "data": {
      "text/html": [
       "<b>Review <a target=\"blank\" href=\"https://console.aws.amazon.com/cloudwatch/home?region=us-east-1#logStream:group=/aws/sagemaker/ProcessingJobs;prefix=sagemaker-scikit-learn-2021-08-15-19-45-04-902;streamFilter=typeLogStreamPrefix\">CloudWatch logs</a> after about 5 minutes</b>"
      ],
      "text/plain": [
       "<IPython.core.display.HTML object>"
      ]
     },
     "metadata": {},
     "output_type": "display_data"
    }
   ],
   "source": [
    "from IPython.core.display import display, HTML\n",
    "\n",
    "display(HTML('<b>Review <a target=\"blank\" href=\"https://console.aws.amazon.com/cloudwatch/home?region={}#logStream:group=/aws/sagemaker/ProcessingJobs;prefix={};streamFilter=typeLogStreamPrefix\">CloudWatch logs</a> after about 5 minutes</b>'.format(region, scikit_processing_job_name)))"
   ]
  },
  {
   "cell_type": "markdown",
   "metadata": {},
   "source": [
    "After the completion of the processing job you can also review the output in the S3 bucket."
   ]
  },
  {
   "cell_type": "code",
   "execution_count": 19,
   "metadata": {
    "scrolled": true
   },
   "outputs": [
    {
     "data": {
      "text/html": [
       "<b>Review <a target=\"blank\" href=\"https://s3.console.aws.amazon.com/s3/buckets/sagemaker-us-east-1-421851816171/sagemaker-scikit-learn-2021-08-15-19-45-04-902/?region=us-east-1&tab=overview\">S3 output data</a> after the processing job has completed</b>"
      ],
      "text/plain": [
       "<IPython.core.display.HTML object>"
      ]
     },
     "metadata": {},
     "output_type": "display_data"
    }
   ],
   "source": [
    "from IPython.core.display import display, HTML\n",
    "\n",
    "display(HTML('<b>Review <a target=\"blank\" href=\"https://s3.console.aws.amazon.com/s3/buckets/{}/{}/?region={}&tab=overview\">S3 output data</a> after the processing job has completed</b>'.format(bucket, scikit_processing_job_name, region)))\n"
   ]
  },
  {
   "cell_type": "markdown",
   "metadata": {},
   "source": [
    "Wait for the processing job to complete.\n",
    "\n",
    "### _This cell will take approximately 15 minutes to run._"
   ]
  },
  {
   "cell_type": "code",
   "execution_count": 20,
   "metadata": {},
   "outputs": [
    {
     "name": "stdout",
     "output_type": "stream",
     "text": [
      "........................................................................................................................................!CPU times: user 582 ms, sys: 104 ms, total: 686 ms\n",
      "Wall time: 11min 23s\n"
     ]
    }
   ],
   "source": [
    "%%time\n",
    "\n",
    "running_processor = sagemaker.processing.ProcessingJob.from_processing_name(\n",
    "    processing_job_name=scikit_processing_job_name,\n",
    "    sagemaker_session=sess\n",
    ")\n",
    "\n",
    "running_processor.wait(logs=False)"
   ]
  },
  {
   "cell_type": "markdown",
   "metadata": {},
   "source": [
    "_Please wait until ^^ Processing Job ^^ completes above_"
   ]
  },
  {
   "cell_type": "markdown",
   "metadata": {},
   "source": [
    "Inspect the transformed and balanced data in the S3 bucket."
   ]
  },
  {
   "cell_type": "code",
   "execution_count": 21,
   "metadata": {},
   "outputs": [
    {
     "name": "stdout",
     "output_type": "stream",
     "text": [
      "s3://sagemaker-us-east-1-421851816171/sagemaker-scikit-learn-2021-08-15-19-45-04-902/output/sentiment-train\n",
      "s3://sagemaker-us-east-1-421851816171/sagemaker-scikit-learn-2021-08-15-19-45-04-902/output/sentiment-validation\n",
      "s3://sagemaker-us-east-1-421851816171/sagemaker-scikit-learn-2021-08-15-19-45-04-902/output/sentiment-test\n"
     ]
    }
   ],
   "source": [
    "processing_job_description = running_processor.describe()\n",
    "\n",
    "output_config = processing_job_description['ProcessingOutputConfig']\n",
    "for output in output_config['Outputs']:\n",
    "    if output['OutputName'] == 'sentiment-train':\n",
    "        processed_train_data_s3_uri = output['S3Output']['S3Uri']\n",
    "    if output['OutputName'] == 'sentiment-validation':\n",
    "        processed_validation_data_s3_uri = output['S3Output']['S3Uri']\n",
    "    if output['OutputName'] == 'sentiment-test':\n",
    "        processed_test_data_s3_uri = output['S3Output']['S3Uri']\n",
    "        \n",
    "print(processed_train_data_s3_uri)\n",
    "print(processed_validation_data_s3_uri)\n",
    "print(processed_test_data_s3_uri)"
   ]
  },
  {
   "cell_type": "code",
   "execution_count": 22,
   "metadata": {
    "scrolled": true
   },
   "outputs": [
    {
     "name": "stdout",
     "output_type": "stream",
     "text": [
      "2021-08-15 19:58:15    4897048 part-algo-1-womens_clothing_ecommerce_reviews.tsv\n"
     ]
    }
   ],
   "source": [
    "!aws s3 ls $processed_train_data_s3_uri/"
   ]
  },
  {
   "cell_type": "code",
   "execution_count": 23,
   "metadata": {
    "scrolled": true
   },
   "outputs": [
    {
     "name": "stdout",
     "output_type": "stream",
     "text": [
      "2021-08-15 19:58:15     275299 part-algo-1-womens_clothing_ecommerce_reviews.tsv\n"
     ]
    }
   ],
   "source": [
    "!aws s3 ls $processed_validation_data_s3_uri/"
   ]
  },
  {
   "cell_type": "code",
   "execution_count": 24,
   "metadata": {
    "scrolled": true
   },
   "outputs": [
    {
     "name": "stdout",
     "output_type": "stream",
     "text": [
      "2021-08-15 19:58:15     268229 part-algo-1-womens_clothing_ecommerce_reviews.tsv\n"
     ]
    }
   ],
   "source": [
    "!aws s3 ls $processed_test_data_s3_uri/"
   ]
  },
  {
   "cell_type": "markdown",
   "metadata": {},
   "source": [
    "Copy the data into the folder `balanced`."
   ]
  },
  {
   "cell_type": "code",
   "execution_count": 25,
   "metadata": {},
   "outputs": [
    {
     "name": "stdout",
     "output_type": "stream",
     "text": [
      "download: s3://sagemaker-us-east-1-421851816171/sagemaker-scikit-learn-2021-08-15-19-45-04-902/output/sentiment-train/part-algo-1-womens_clothing_ecommerce_reviews.tsv to balanced/sentiment-train/part-algo-1-womens_clothing_ecommerce_reviews.tsv\n",
      "download: s3://sagemaker-us-east-1-421851816171/sagemaker-scikit-learn-2021-08-15-19-45-04-902/output/sentiment-validation/part-algo-1-womens_clothing_ecommerce_reviews.tsv to balanced/sentiment-validation/part-algo-1-womens_clothing_ecommerce_reviews.tsv\n",
      "download: s3://sagemaker-us-east-1-421851816171/sagemaker-scikit-learn-2021-08-15-19-45-04-902/output/sentiment-test/part-algo-1-womens_clothing_ecommerce_reviews.tsv to balanced/sentiment-test/part-algo-1-womens_clothing_ecommerce_reviews.tsv\n"
     ]
    }
   ],
   "source": [
    "!aws s3 cp $processed_train_data_s3_uri/part-algo-1-womens_clothing_ecommerce_reviews.tsv ./balanced/sentiment-train/\n",
    "!aws s3 cp $processed_validation_data_s3_uri/part-algo-1-womens_clothing_ecommerce_reviews.tsv ./balanced/sentiment-validation/\n",
    "!aws s3 cp $processed_test_data_s3_uri/part-algo-1-womens_clothing_ecommerce_reviews.tsv ./balanced/sentiment-test/"
   ]
  },
  {
   "cell_type": "markdown",
   "metadata": {},
   "source": [
    "Review the training, validation and test data outputs:"
   ]
  },
  {
   "cell_type": "code",
   "execution_count": 26,
   "metadata": {},
   "outputs": [
    {
     "name": "stdout",
     "output_type": "stream",
     "text": [
      "review_id\tsentiment\tlabel_id\tinput_ids\treview_body\tdate\n",
      "545\t-1\t0\t[0, 100, 524, 6329, 227, 10, 1836, 321, 8, 132, 1437, 98, 939, 2740, 209, 9304, 11, 258, 10070, 7, 146, 686, 939, 74, 33, 10, 2579, 1763, 9, 909, 9774, 7, 3568, 7, 173, 4, 5, 321, 2551, 1256, 3229, 70, 198, 1437, 98, 939, 1835, 5, 321, 8, 1682, 5, 132, 190, 600, 89, 21, 10, 410, 828, 9, 929, 11, 5, 13977, 4, 9, 768, 5, 1836, 132, 71, 10, 367, 722, 9, 2498, 56, 2198, 13596, 66, 1437, 21, 3298, 3923, 11, 5, 42613, 443, 1437, 15599, 198, 15, 127, 13977, 8, 8633, 7913, 7340, 639, 5, 15145, 4, 939, 2980, 939, 40, 3568, 209, 9304, 55, 87, 5, 1021, 2, 1, 1, 1, 1, 1, 1, 1, 1, 1, 1, 1, 1, 1]\tI am normally between a size 0 and 2  so i ordered these pants in both sizes to make sure i would have a nice pair of black crops to wear to work. the 0 seemed pretty tight all around  so i returned the 0 and kept the 2 even though there was a little bit of room in the waist. of course the size 2 after a few hours of wearing had completely stretched out  was bagging in the crotch area  sliding around on my waist and creasing badly behind the knees. i doubt i will wear these pants more than the o\t2021-08-15T19:52:45Z\n",
      "13001\t-1\t0\t[0, 100, 6329, 3568, 10, 4761, 19, 209, 3505, 9, 26348, 53, 42, 65, 21, 33442, 10301, 196, 15, 162, 4, 5, 16576, 21, 67, 45, 182, 34203, 7, 127, 1946, 19487, 1955, 1437, 53, 24, 23, 513, 2564, 157, 4, 5, 299, 21, 3298, 4740, 8, 821, 14677, 23, 5, 4709, 6195, 2629, 25, 2305, 30, 643, 4, 939, 269, 770, 7, 101, 42, 3588, 53, 24, 156, 162, 356, 291, 2697, 19351, 190, 11, 5, 2127, 24, 1415, 350, 380, 15, 162, 4, 939, 115, 33, 1381, 164, 19, 10, 650, 53, 5, 16576, 74, 33, 172, 57, 350, 765, 4, 2, 1, 1, 1, 1, 1, 1, 1, 1, 1, 1, 1, 1, 1, 1, 1, 1, 1, 1, 1, 1, 1, 1, 1, 1]\tI normally wear a medium with these types of fabrics but this one was oddly proportioned on me. the skirt was also not very flattering to my hourglass figure  but it at least fit well. the top was baggy and gaped at the armpits as stated by others. i really wanted to like this dress but it made me look 20 pounds heavier even in the places it looked too big on me. i could have tried going with a small but the skirt would have then been too short.\t2021-08-15T19:52:45Z\n",
      "6727\t0\t1\t[0, 100, 2740, 42, 11, 10, 475, 8, 24, 21, 95, 10, 380, 2233, 219, 10178, 4, 939, 269, 770, 7, 657, 24, 187, 5, 5933, 16, 205, 13, 2084, 6149, 1033, 8, 5336, 15, 7, 9727, 1159, 198, 4, 24, 95, 21, 98, 380, 8, 56, 117, 3989, 23, 70, 4, 24, 18, 678, 939, 197, 33, 23855, 159, 7, 10, 650, 1437, 53, 939, 437, 3981, 24, 124, 4, 2, 1, 1, 1, 1, 1, 1, 1, 1, 1, 1, 1, 1, 1, 1, 1, 1, 1, 1, 1, 1, 1, 1, 1, 1, 1, 1, 1, 1, 1, 1, 1, 1, 1, 1, 1, 1, 1, 1, 1, 1, 1, 1, 1, 1, 1, 1, 1, 1, 1, 1, 1, 1, 1, 1, 1, 1]\tI ordered this in a m and it was just a big boxy tent. i really wanted to love it since the length is good for leggings and throwing on to cart kids around. it just was so big and had no shape at all. it's possible i should have sized down to a small  but i'm sending it back.\t2021-08-15T19:52:45Z\n",
      "5581\t0\t1\t[0, 13721, 10, 986, 37102, 2801, 5, 10844, 109, 45, 4784, 356, 101, 5, 65, 11, 5, 1345, 4, 939, 78, 2740, 106, 11, 127, 1675, 1836, 8, 67, 56, 7, 3120, 14, 51, 32, 847, 101, 604, 18, 10844, 19, 5856, 98, 22877, 14, 939, 115, 129, 1370, 106, 81, 127, 32606, 4, 5, 26370, 8231, 16, 2721, 1437, 53, 24, 67, 6897, 5, 1468, 31, 16539, 1437, 98, 5, 5, 2422, 22877, 5856, 32, 10, 588, 936, 4, 67, 1437, 51, 32, 45, 25, 29727, 7326, 15158, 25, 2343, 11, 5, 2170, 4, 939, 1276, 7, 645, 106, 456, 65, 1836, 2671, 2, 1, 1, 1, 1, 1, 1, 1, 1, 1, 1, 1, 1, 1, 1, 1, 1, 1, 1, 1, 1, 1, 1, 1]\tLike a previous reviewer mentioned the jeans do not necessarily look like the one in the photo. i first ordered them in my regular size and also had to notice that they are cut like men's jeans with legs so skinny that i could only force them over my calves. the embroiding is beautiful  but it also stops the material from stretching  so the the super skinny legs are a real problem. also  they are not as intensely stone washed as shown in the picture. i decided to order them again one size bigger\t2021-08-15T19:52:45Z\n"
     ]
    }
   ],
   "source": [
    "!head -n 5 ./balanced/sentiment-train/part-algo-1-womens_clothing_ecommerce_reviews.tsv"
   ]
  },
  {
   "cell_type": "code",
   "execution_count": 27,
   "metadata": {},
   "outputs": [
    {
     "name": "stdout",
     "output_type": "stream",
     "text": [
      "review_id\tsentiment\tlabel_id\tinput_ids\treview_body\tdate\n",
      "10269\t0\t1\t[0, 100, 437, 195, 108, 398, 113, 8, 8325, 8, 42, 156, 162, 356, 1307, 4, 24, 21, 10, 650, 53, 350, 1087, 1722, 219, 4, 24, 16, 1256, 1437, 2579, 10199, 8, 157, 156, 53, 939, 1835, 4, 2, 1, 1, 1, 1, 1, 1, 1, 1, 1, 1, 1, 1, 1, 1, 1, 1, 1, 1, 1, 1, 1, 1, 1, 1, 1, 1, 1, 1, 1, 1, 1, 1, 1, 1, 1, 1, 1, 1, 1, 1, 1, 1, 1, 1, 1, 1, 1, 1, 1, 1, 1, 1, 1, 1, 1, 1, 1, 1, 1, 1, 1, 1, 1, 1, 1, 1, 1, 1, 1, 1, 1, 1, 1, 1, 1, 1, 1, 1, 1, 1, 1, 1, 1, 1, 1, 1, 1, 1]\t\"I'm 5'8\"\" and 130 and this made me look huge. it was a small but too billowy. it is pretty  nice fabric and well made but i returned.\"\t2021-08-15T19:52:45Z\n",
      "9383\t1\t2\t[0, 713, 6013, 299, 16, 372, 223, 1886, 40342, 50, 10610, 81, 13344, 4, 5, 7524, 8, 5, 27595, 552, 5, 2576, 492, 24, 615, 4617, 7, 28, 10610, 25, 10, 1413, 1937, 1437, 53, 45, 350, 203, 7, 37387, 10, 14160, 23204, 28026, 81, 24, 4, 939, 2162, 5, 1104, 65, 11, 5, 1400, 11, 10, 4761, 8, 24, 2564, 372, 4, 172, 939, 3584, 80, 55, 804, 36, 119, 12379, 8, 6907, 43, 11, 5, 276, 1836, 8, 51, 422, 10, 828, 2735, 87, 5, 65, 11, 5, 1400, 4, 939, 802, 5, 32184, 21, 10, 3793, 5718, 31, 5, 1345, 804, 53, 24, 18, 1256, 4520, 1437, 25, 16, 5, 181, 2, 1, 1, 1, 1, 1, 1, 1, 1, 1, 1, 1, 1, 1]\tThis tank top is great under cardigans or worn over shorts. the pocket and the seam along the bottom give it enough detail to be worn as a stand alone  but not too much to overshadow a stylish sweater layered over it. i bought the white one in the store in a medium and it fit great. then i purchased two more online (mango and pink) in the same size and they run a bit smaller than the one in the store. i thought the mango was a soft yellow from the photo online but it's pretty bright  as is the p\t2021-08-15T19:52:45Z\n",
      "16249\t-1\t0\t[0, 574, 12677, 24, 804, 13, 63, 2297, 847, 8, 5780, 4, 959, 1437, 77, 939, 829, 5, 6880, 939, 21, 5779, 4, 939, 2740, 127, 4505, 1836, 204, 8, 939, 21, 7358, 11, 24, 4, 939, 101, 24901, 383, 8, 1346, 14, 42, 3588, 16, 156, 14, 169, 131, 959, 1437, 42, 21, 45, 34203, 4, 939, 74, 224, 939, 74, 33, 956, 7, 1836, 159, 7, 10, 321, 8, 2532, 24, 74, 173, 53, 939, 399, 75, 236, 7, 185, 277, 778, 4, 5, 1468, 2551, 818, 8633, 2379, 219, 1437, 61, 939, 938, 75, 3087, 7309, 3006, 19048, 4804, 1169, 4, 741, 22539, 14, 24, 399, 75, 173, 66, 4, 2, 1, 1, 1, 1, 1, 1, 1, 1, 1, 1, 1, 1, 1, 1]\tLoved it online for its modern cut and print. however  when i received the item i was disappointed. i ordered my usual size 4 and i was swimming in it. i like oversized things and understand that this dress is made that way; however  this was not flattering. i would say i would have needed to size down to a 0 and perhaps it would work but i didn't want to take another chance. the material seemed almost crepey  which i wasn't neccissarily expecting either. bummer that it didn't work out.\t2021-08-15T19:52:45Z\n",
      "5428\t0\t1\t[0, 100, 2162, 42, 13855, 6439, 11, 258, 26348, 4, 939, 2329, 3995, 5, 2564, 8, 619, 9, 258, 1437, 53, 16748, 1437, 5, 11267, 10199, 21, 45, 7521, 157, 11, 5, 1663, 4, 130, 7721, 35, 10, 7174, 1104, 2125, 552, 65, 2985, 27595, 156, 24, 356, 101, 10, 4683, 131, 21230, 27407, 739, 3745, 9, 1104, 11, 5, 42613, 443, 1415, 26654, 8, 1593, 131, 2373, 9, 70, 1437, 10, 42539, 21, 2325, 15, 258, 6181, 3745, 1437, 53, 51, 58, 430, 19811, 1437, 61, 456, 1415, 26654, 8, 1593, 11, 10, 317, 147, 47, 269, 236, 24, 7, 356, 19427, 8, 235, 4, 350, 1099, 741, 2, 1, 1, 1, 1, 1, 1, 1, 1, 1, 1, 1, 1, 1, 1, 1, 1, 1, 1]\tI bought this jumpsuit in both fabrics. i adored the fit and feel of both  but sadly  the graphic fabric was not handled well in the construction. three examples: a thin white piece along one leg seam made it look like a hole; mismatched large pieces of white in the crotch area looked sloppy and wrong; worst of all  a diagonal was placed on both breast pieces  but they were different angles  which again looked sloppy and wrong in a place where you really want it to look neat and right. too bad b\t2021-08-15T19:52:45Z\n"
     ]
    }
   ],
   "source": [
    "!head -n 5 ./balanced/sentiment-validation/part-algo-1-womens_clothing_ecommerce_reviews.tsv"
   ]
  },
  {
   "cell_type": "code",
   "execution_count": 28,
   "metadata": {},
   "outputs": [
    {
     "name": "stdout",
     "output_type": "stream",
     "text": [
      "review_id\tsentiment\tlabel_id\tinput_ids\treview_body\tdate\n",
      "8411\t1\t2\t[0, 597, 2629, 1528, 7, 1836, 19, 205, 1953, 4, 4711, 342, 77, 939, 21, 11, 5, 3716, 4, 2, 1, 1, 1, 1, 1, 1, 1, 1, 1, 1, 1, 1, 1, 1, 1, 1, 1, 1, 1, 1, 1, 1, 1, 1, 1, 1, 1, 1, 1, 1, 1, 1, 1, 1, 1, 1, 1, 1, 1, 1, 1, 1, 1, 1, 1, 1, 1, 1, 1, 1, 1, 1, 1, 1, 1, 1, 1, 1, 1, 1, 1, 1, 1, 1, 1, 1, 1, 1, 1, 1, 1, 1, 1, 1, 1, 1, 1, 1, 1, 1, 1, 1, 1, 1, 1, 1, 1, 1, 1, 1, 1, 1, 1, 1, 1, 1, 1, 1, 1, 1, 1, 1, 1, 1, 1, 1, 1, 1]\tFits true to size with good coverage. stayed put when i was in the pool.\t2021-08-15T19:52:45Z\n",
      "3827\t-1\t0\t[0, 713, 14233, 1741, 2564, 101, 10, 3366, 328, 1437, 24, 16, 12058, 1437, 2216, 1437, 8, 13350, 4, 939, 524, 691, 42, 132, 2690, 142, 24, 362, 162, 291, 728, 7, 860, 24, 15, 328, 1437, 89, 16, 117, 43805, 8, 5, 129, 169, 7, 120, 24, 15, 8, 160, 16, 30, 6148, 154, 8, 542, 32135, 154, 5, 650, 14893, 15, 5, 299, 4, 5907, 18, 300, 86, 13, 14, 32376, 1437, 939, 770, 98, 12420, 7, 3568, 24, 7, 127, 1441, 18, 843, 212, 4115, 537, 4, 53, 939, 14838, 2185, 1408, 457, 5, 363, 11, 5, 29278, 667, 7, 120, 42, 14233, 1741, 15, 8, 160, 4, 117, 3392, 47, 328, 1437, 939, 1687, 2159, 5, 910, 7474, 2, 1, 1, 1, 1, 1]\tThis romper fit like a dream!  it is gorgeous  unique  and sexy. i am rating this 2 stars because it took me 20 minutes to try it on!  there is no zipper and the only way to get it on and off is by buttoning and unbuttoning the small buttons on the top. nobody's got time for that!!!!  i wanted so desperately to wear it to my friend's 40th birthday party. but i imagined myself spending half the night in the restroom trying to get this romper on and off. no thank you!  i considered buying the romp\t2021-08-15T19:52:45Z\n",
      "12490\t1\t2\t[0, 100, 56, 57, 1576, 59, 42, 3588, 13, 377, 8, 21, 98, 2283, 7, 192, 51, 1146, 24, 124, 11, 55, 8089, 4, 5, 6173, 939, 1166, 1695, 24, 1237, 650, 11, 5, 7050, 443, 4, 939, 437, 10, 1528, 30023, 3989, 36, 1922, 428, 1437, 939, 6329, 3568, 111, 1836, 132, 1437, 3023, 29, 1437, 15, 299, 8, 1836, 204, 12, 401, 15, 5, 2576, 1437, 53, 19, 14442, 939, 818, 460, 120, 1836, 132, 43, 142, 9, 5, 7021, 10, 2574, 9, 5, 3588, 939, 1276, 7, 1836, 159, 19, 42, 65, 4, 939, 21, 7464, 141, 3229, 24, 74, 28, 62, 299, 53, 939, 67, 399, 75, 236, 24, 7, 356, 101, 11, 7325, 2498, 10, 14072, 328, 98, 939, 7, 2, 1, 1]\tI had been hearing about this dress for months and was so excited to see they brought it back in more colors. the reviews i read claimed it runs small in the chest area. i'm a true pear shape (23b  i normally wear - size 2  xs  on top and size 4-6 on the bottom  but with dresses i almost always get size 2) because of the swing a nature of the dress i decided to size down with this one. i was nervous how tight it would be up top but i also didn't want it to look like inwas wearing a sack! so i to\t2021-08-15T19:52:45Z\n",
      "13368\t-1\t0\t[0, 2387, 1623, 393, 34, 932, 2430, 7, 224, 59, 127, 5418, 454, 939, 5328, 209, 9304, 328, 51, 32, 45, 34203, 8, 1682, 16539, 66, 454, 939, 115, 2999, 106, 160, 396, 542, 329, 11813, 106, 328, 3298, 4740, 11, 5, 639, 8, 26654, 546, 4, 51, 32, 164, 124, 25, 1115, 328, 2, 1, 1, 1, 1, 1, 1, 1, 1, 1, 1, 1, 1, 1, 1, 1, 1, 1, 1, 1, 1, 1, 1, 1, 1, 1, 1, 1, 1, 1, 1, 1, 1, 1, 1, 1, 1, 1, 1, 1, 1, 1, 1, 1, 1, 1, 1, 1, 1, 1, 1, 1, 1, 1, 1, 1, 1, 1, 1, 1, 1, 1, 1, 1, 1, 1, 1, 1, 1, 1, 1, 1, 1, 1]\tMy husband never has anything negative to say about my clothes until i wore these pants! they are not flattering and kept stretching out until i could pull them off without unzipping them! baggy in the behind and sloppy looking. they are going back asap!\t2021-08-15T19:52:45Z\n"
     ]
    }
   ],
   "source": [
    "!head -n 5 ./balanced/sentiment-test/part-algo-1-womens_clothing_ecommerce_reviews.tsv"
   ]
  },
  {
   "cell_type": "markdown",
   "metadata": {},
   "source": [
    "<a name='c2w1-3.'></a>\n",
    "# 3. Query the Feature Store\n",
    "In addition to transforming the data and saving in S3 bucket, the processing job populates the feature store with the transformed and balanced data.  Let's query this data using Amazon Athena."
   ]
  },
  {
   "cell_type": "markdown",
   "metadata": {},
   "source": [
    "<a name='c2w1-3.1.'></a>\n",
    "### 3.1. Export training, validation, and test datasets from the Feature Store\n",
    "\n",
    "Here you will do the export only for the training dataset, as an example. \n",
    "\n",
    "Use `athena_query()` function to create an Athena query for the defined above Feature Group. Then you can pull the table name of the Amazon Glue Data Catalog table which is auto-generated by Feature Store."
   ]
  },
  {
   "cell_type": "code",
   "execution_count": 29,
   "metadata": {},
   "outputs": [
    {
     "name": "stdout",
     "output_type": "stream",
     "text": [
      "Glue Catalog table name: reviews-feature-group-1629056126-1629057130\n",
      "Running query: \n",
      "    SELECT date,\n",
      "        review_id,\n",
      "        sentiment, \n",
      "        label_id,\n",
      "        input_ids,\n",
      "        review_body\n",
      "    FROM \"reviews-feature-group-1629056126-1629057130\" \n",
      "    WHERE split_type='train' \n",
      "    LIMIT 5\n",
      "\n"
     ]
    }
   ],
   "source": [
    "feature_store_query = feature_group.athena_query()\n",
    "\n",
    "feature_store_table = feature_store_query.table_name\n",
    "\n",
    "query_string = \"\"\"\n",
    "    SELECT date,\n",
    "        review_id,\n",
    "        sentiment, \n",
    "        label_id,\n",
    "        input_ids,\n",
    "        review_body\n",
    "    FROM \"{}\" \n",
    "    WHERE split_type='train' \n",
    "    LIMIT 5\n",
    "\"\"\".format(feature_store_table)\n",
    "\n",
    "print('Glue Catalog table name: {}'.format(feature_store_table))\n",
    "print('Running query: {}'.format(query_string))"
   ]
  },
  {
   "cell_type": "markdown",
   "metadata": {},
   "source": [
    "Configure the S3 location for the query results.  This allows us to re-use the query results for future queries if the data has not changed.  We can even share this S3 location between team members to improve query performance for common queries on data that does not change often."
   ]
  },
  {
   "cell_type": "code",
   "execution_count": 30,
   "metadata": {},
   "outputs": [
    {
     "name": "stdout",
     "output_type": "stream",
     "text": [
      "s3://sagemaker-us-east-1-421851816171/query_results/reviews-feature-store-1629056126/\n"
     ]
    }
   ],
   "source": [
    "output_s3_uri = 's3://{}/query_results/{}/'.format(bucket, feature_store_offline_prefix)\n",
    "print(output_s3_uri)"
   ]
  },
  {
   "cell_type": "markdown",
   "metadata": {},
   "source": [
    "<a name='c2w1-ex-4'></a>\n",
    "### Exercise 4\n",
    "\n",
    "Query the feature store.\n",
    "\n",
    "**Instructions**: Use `feature_store_query.run` function passing the constructed above query string and the location of the output S3 bucket.\n",
    "\n",
    "```python\n",
    "feature_store_query.run(\n",
    "    query_string=..., # query string\n",
    "    output_location=... # location of the output S3 bucket\n",
    ")\n",
    "```"
   ]
  },
  {
   "cell_type": "code",
   "execution_count": 31,
   "metadata": {},
   "outputs": [],
   "source": [
    "feature_store_query.run(\n",
    "    ### BEGIN SOLUTION - DO NOT delete this comment for grading purposes\n",
    "    query_string=query_string, # Replace None\n",
    "    output_location=output_s3_uri # Replace None\n",
    "    ### END SOLUTION - DO NOT delete this comment for grading purposes\n",
    ")\n",
    "\n",
    "feature_store_query.wait()"
   ]
  },
  {
   "cell_type": "code",
   "execution_count": 32,
   "metadata": {},
   "outputs": [
    {
     "data": {
      "text/html": [
       "<div>\n",
       "<style scoped>\n",
       "    .dataframe tbody tr th:only-of-type {\n",
       "        vertical-align: middle;\n",
       "    }\n",
       "\n",
       "    .dataframe tbody tr th {\n",
       "        vertical-align: top;\n",
       "    }\n",
       "\n",
       "    .dataframe thead th {\n",
       "        text-align: right;\n",
       "    }\n",
       "</style>\n",
       "<table border=\"1\" class=\"dataframe\">\n",
       "  <thead>\n",
       "    <tr style=\"text-align: right;\">\n",
       "      <th></th>\n",
       "      <th>date</th>\n",
       "      <th>review_id</th>\n",
       "      <th>sentiment</th>\n",
       "      <th>label_id</th>\n",
       "      <th>input_ids</th>\n",
       "      <th>review_body</th>\n",
       "    </tr>\n",
       "  </thead>\n",
       "  <tbody>\n",
       "    <tr>\n",
       "      <th>0</th>\n",
       "      <td>2021-08-15T19:52:45Z</td>\n",
       "      <td>4856</td>\n",
       "      <td>0</td>\n",
       "      <td>1</td>\n",
       "      <td>[0, 19065, 1114, 1437, 53, 42, 21, 45, 10, 34203, 299, 15, 162, 4, 24, 818, 1006, 1437, 53, 1249...</td>\n",
       "      <td>Great idea  but this was not a flattering top on me. it almost worked  but ended up making me lo...</td>\n",
       "    </tr>\n",
       "    <tr>\n",
       "      <th>1</th>\n",
       "      <td>2021-08-15T19:52:45Z</td>\n",
       "      <td>6426</td>\n",
       "      <td>-1</td>\n",
       "      <td>0</td>\n",
       "      <td>[0, 100, 21, 98, 2283, 7, 120, 42, 11, 5, 7107, 734, 8, 2638, 960, 59, 24, 4682, 13, 5, 754, 14,...</td>\n",
       "      <td>I was so excited to get this in the mail... and loved everything about it except for the fact th...</td>\n",
       "    </tr>\n",
       "    <tr>\n",
       "      <th>2</th>\n",
       "      <td>2021-08-15T19:52:45Z</td>\n",
       "      <td>10567</td>\n",
       "      <td>1</td>\n",
       "      <td>2</td>\n",
       "      <td>[0, 713, 16, 10, 372, 2125, 1437, 47, 64, 109, 171, 383, 19, 24, 4, 939, 5328, 24, 7, 173, 8, 23...</td>\n",
       "      <td>This is a great piece  you can do many things with it. i wore it to work and church :)</td>\n",
       "    </tr>\n",
       "    <tr>\n",
       "      <th>3</th>\n",
       "      <td>2021-08-15T19:52:45Z</td>\n",
       "      <td>2276</td>\n",
       "      <td>0</td>\n",
       "      <td>1</td>\n",
       "      <td>[0, 100, 399, 75, 563, 7, 3568, 42, 160, 4793, 4, 16748, 5, 5397, 16, 350, 7082, 8, 380, 114, 10...</td>\n",
       "      <td>I didn't plan to wear this off shoulder. sadly the neck is too loose and big if worn on shoulder...</td>\n",
       "    </tr>\n",
       "    <tr>\n",
       "      <th>4</th>\n",
       "      <td>2021-08-15T19:52:45Z</td>\n",
       "      <td>6899</td>\n",
       "      <td>-1</td>\n",
       "      <td>0</td>\n",
       "      <td>[0, 100, 269, 770, 7, 657, 42, 13977, 29582, 4, 939, 3584, 42, 804, 8, 1381, 24, 15, 25, 1010, 2...</td>\n",
       "      <td>I really wanted to love this waistcoat. i purchased this online and tried it on as soon as i rec...</td>\n",
       "    </tr>\n",
       "  </tbody>\n",
       "</table>\n",
       "</div>"
      ],
      "text/plain": [
       "                   date  review_id  sentiment  label_id  \\\n",
       "0  2021-08-15T19:52:45Z       4856          0         1   \n",
       "1  2021-08-15T19:52:45Z       6426         -1         0   \n",
       "2  2021-08-15T19:52:45Z      10567          1         2   \n",
       "3  2021-08-15T19:52:45Z       2276          0         1   \n",
       "4  2021-08-15T19:52:45Z       6899         -1         0   \n",
       "\n",
       "                                                                                             input_ids  \\\n",
       "0  [0, 19065, 1114, 1437, 53, 42, 21, 45, 10, 34203, 299, 15, 162, 4, 24, 818, 1006, 1437, 53, 1249...   \n",
       "1  [0, 100, 21, 98, 2283, 7, 120, 42, 11, 5, 7107, 734, 8, 2638, 960, 59, 24, 4682, 13, 5, 754, 14,...   \n",
       "2  [0, 713, 16, 10, 372, 2125, 1437, 47, 64, 109, 171, 383, 19, 24, 4, 939, 5328, 24, 7, 173, 8, 23...   \n",
       "3  [0, 100, 399, 75, 563, 7, 3568, 42, 160, 4793, 4, 16748, 5, 5397, 16, 350, 7082, 8, 380, 114, 10...   \n",
       "4  [0, 100, 269, 770, 7, 657, 42, 13977, 29582, 4, 939, 3584, 42, 804, 8, 1381, 24, 15, 25, 1010, 2...   \n",
       "\n",
       "                                                                                           review_body  \n",
       "0  Great idea  but this was not a flattering top on me. it almost worked  but ended up making me lo...  \n",
       "1  I was so excited to get this in the mail... and loved everything about it except for the fact th...  \n",
       "2               This is a great piece  you can do many things with it. i wore it to work and church :)  \n",
       "3  I didn't plan to wear this off shoulder. sadly the neck is too loose and big if worn on shoulder...  \n",
       "4  I really wanted to love this waistcoat. i purchased this online and tried it on as soon as i rec...  "
      ]
     },
     "execution_count": 32,
     "metadata": {},
     "output_type": "execute_result"
    }
   ],
   "source": [
    "import pandas as pd\n",
    "pd.set_option(\"max_colwidth\", 100)\n",
    "\n",
    "df_feature_store = feature_store_query.as_dataframe()\n",
    "df_feature_store"
   ]
  },
  {
   "cell_type": "markdown",
   "metadata": {},
   "source": [
    "Review the Feature Store in SageMaker Studio\n",
    "\n",
    "![](images/sm_studio_extensions_featurestore.png)"
   ]
  },
  {
   "cell_type": "markdown",
   "metadata": {},
   "source": [
    "<a name='c2w1-3.2.'></a>\n",
    "### 3.2. Export TSV from Feature Store"
   ]
  },
  {
   "cell_type": "markdown",
   "metadata": {},
   "source": [
    "Save the output as a TSV file:"
   ]
  },
  {
   "cell_type": "code",
   "execution_count": 33,
   "metadata": {},
   "outputs": [],
   "source": [
    "df_feature_store.to_csv('./feature_store_export.tsv',\n",
    "                        sep='\\t',\n",
    "                        index=False,\n",
    "                        header=True)"
   ]
  },
  {
   "cell_type": "code",
   "execution_count": 34,
   "metadata": {},
   "outputs": [
    {
     "name": "stdout",
     "output_type": "stream",
     "text": [
      "date\treview_id\tsentiment\tlabel_id\tinput_ids\treview_body\n",
      "2021-08-15T19:52:45Z\t4856\t0\t1\t[0, 19065, 1114, 1437, 53, 42, 21, 45, 10, 34203, 299, 15, 162, 4, 24, 818, 1006, 1437, 53, 1249, 62, 442, 162, 356, 101, 939, 524, 5283, 116, 3654, 10, 356, 939, 524, 25514, 7, 3042, 116, 405, 34, 801, 8, 2085, 643, 19, 10, 430, 809, 1907, 189, 33, 1282, 4, 36, 939, 524, 5350, 11454, 15, 2576, 8, 33, 10, 251, 28762, 43, 13, 5, 425, 1437, 24, 222, 45, 11071, 10, 317, 11, 127, 16198, 116, 2, 1, 1, 1, 1, 1, 1, 1, 1, 1, 1, 1, 1, 1, 1, 1, 1, 1, 1, 1, 1, 1, 1, 1, 1, 1, 1, 1, 1, 1, 1, 1, 1, 1, 1, 1, 1, 1, 1, 1, 1, 1, 1, 1, 1, 1, 1, 1]\tGreat idea  but this was not a flattering top on me. it almost worked  but ended up making me look like i am pregnant?not a look i am striving to achieve?it has potential and maybe others with a different body type may have success. ( i am curvy on bottom and have a long torso) for the price  it did not justify a place in my closet?\n",
      "2021-08-15T19:52:45Z\t6426\t-1\t0\t[0, 100, 21, 98, 2283, 7, 120, 42, 11, 5, 7107, 734, 8, 2638, 960, 59, 24, 4682, 13, 5, 754, 14, 24, 21, 129, 25, 251, 25, 65, 10468, 1065, 127, 2750, 5536, 328, 939, 218, 75, 216, 596, 24, 1326, 101, 10, 2340, 5933, 15, 5, 1421, 4, 4356, 3357, 24, 4, 2, 1, 1, 1, 1, 1, 1, 1, 1, 1, 1, 1, 1, 1, 1, 1, 1, 1, 1, 1, 1, 1, 1, 1, 1, 1, 1, 1, 1, 1, 1, 1, 1, 1, 1, 1, 1, 1, 1, 1, 1, 1, 1, 1, 1, 1, 1, 1, 1, 1, 1, 1, 1, 1, 1, 1, 1, 1, 1, 1, 1, 1, 1, 1, 1, 1, 1, 1, 1, 1, 1, 1, 1, 1]\tI was so excited to get this in the mail... and loved everything about it except for the fact that it was only as long as one inch above my navel! i don't know why it looks like a normal length on the model. im returning it.\n",
      "2021-08-15T19:52:45Z\t10567\t1\t2\t[0, 713, 16, 10, 372, 2125, 1437, 47, 64, 109, 171, 383, 19, 24, 4, 939, 5328, 24, 7, 173, 8, 2352, 44660, 2, 1, 1, 1, 1, 1, 1, 1, 1, 1, 1, 1, 1, 1, 1, 1, 1, 1, 1, 1, 1, 1, 1, 1, 1, 1, 1, 1, 1, 1, 1, 1, 1, 1, 1, 1, 1, 1, 1, 1, 1, 1, 1, 1, 1, 1, 1, 1, 1, 1, 1, 1, 1, 1, 1, 1, 1, 1, 1, 1, 1, 1, 1, 1, 1, 1, 1, 1, 1, 1, 1, 1, 1, 1, 1, 1, 1, 1, 1, 1, 1, 1, 1, 1, 1, 1, 1, 1, 1, 1, 1, 1, 1, 1, 1, 1, 1, 1, 1, 1, 1, 1, 1, 1, 1]\tThis is a great piece  you can do many things with it. i wore it to work and church :)\n",
      "2021-08-15T19:52:45Z\t2276\t0\t1\t[0, 100, 399, 75, 563, 7, 3568, 42, 160, 4793, 4, 16748, 5, 5397, 16, 350, 7082, 8, 380, 114, 10610, 15, 4793, 4, 5, 10199, 16, 2579, 4, 939, 6640, 5, 12669, 546, 1521, 14, 18, 909, 19, 14327, 7716, 4, 5, 809, 34, 10, 319, 9, 10199, 8, 1712, 939, 2740, 1836, 739, 1437, 939, 74, 1836, 159, 7, 10, 4761, 114, 939, 58, 7, 769, 10337, 4, 218, 75, 206, 939, 40, 1437, 600, 4, 2, 1, 1, 1, 1, 1, 1, 1, 1, 1, 1, 1, 1, 1, 1, 1, 1, 1, 1, 1, 1, 1, 1, 1, 1, 1, 1, 1, 1, 1, 1, 1, 1, 1, 1, 1, 1, 1, 1, 1, 1, 1, 1, 1, 1, 1, 1, 1, 1, 1]\tI didn't plan to wear this off shoulder. sadly the neck is too loose and big if worn on shoulder. the fabric is nice. i liked the vintage looking design that's black with purple flowers. the body has a lot of fabric and although i ordered size large  i would size down to a medium if i were to reorder. don't think i will  though.\n"
     ]
    }
   ],
   "source": [
    "!head -n 5 ./feature_store_export.tsv"
   ]
  },
  {
   "cell_type": "markdown",
   "metadata": {},
   "source": [
    "Upload TSV to the S3 bucket:"
   ]
  },
  {
   "cell_type": "code",
   "execution_count": 35,
   "metadata": {},
   "outputs": [
    {
     "name": "stdout",
     "output_type": "stream",
     "text": [
      "upload: ./feature_store_export.tsv to s3://sagemaker-us-east-1-421851816171/feature_store/feature_store_export.tsv\n"
     ]
    }
   ],
   "source": [
    "!aws s3 cp ./feature_store_export.tsv s3://$bucket/feature_store/feature_store_export.tsv"
   ]
  },
  {
   "cell_type": "markdown",
   "metadata": {},
   "source": [
    "Check the file in the S3 bucket:"
   ]
  },
  {
   "cell_type": "code",
   "execution_count": 36,
   "metadata": {},
   "outputs": [
    {
     "name": "stdout",
     "output_type": "stream",
     "text": [
      "2021-08-15 20:01:09       4218 feature_store/feature_store_export.tsv\n"
     ]
    }
   ],
   "source": [
    "!aws s3 ls --recursive s3://$bucket/feature_store/feature_store_export.tsv"
   ]
  },
  {
   "cell_type": "markdown",
   "metadata": {},
   "source": [
    "<a name='c2w1-3.3.'></a>\n",
    "### 3.3. Check that the dataset in the Feature Store is balanced by sentiment\n",
    "\n",
    "Now you can setup an Athena query to check that the stored dataset is balanced by the target class `sentiment`."
   ]
  },
  {
   "cell_type": "markdown",
   "metadata": {},
   "source": [
    "<a name='c2w1-ex-5'></a>\n",
    "### Exercise 5\n",
    "\n",
    "Write an SQL query to count the total number of the reviews per `sentiment` stored in the Feature Group.\n",
    "\n",
    "**Instructions**: Pass the SQL statement of the form \n",
    "\n",
    "```sql\n",
    "SELECT category_column, COUNT(*) AS new_column_name\n",
    "FROM table_name\n",
    "GROUP BY category_column\n",
    "```\n",
    "\n",
    "into the variable `query_string_count_by_sentiment`. Here you would need to use the column `sentiment` and give a name `count_reviews` to the new column with the counts."
   ]
  },
  {
   "cell_type": "code",
   "execution_count": 37,
   "metadata": {},
   "outputs": [],
   "source": [
    "feature_store_query_2 = feature_group.athena_query()\n",
    "\n",
    "# Replace all None\n",
    "### BEGIN SOLUTION - DO NOT delete this comment for grading purposes\n",
    "query_string_count_by_sentiment = \"\"\"\n",
    "SELECT sentiment, COUNT(*) AS count_reviews\n",
    "FROM \"{}\"\n",
    "GROUP BY sentiment\n",
    "\"\"\".format(feature_store_table)\n",
    "### END SOLUTION - DO NOT delete this comment for grading purposes"
   ]
  },
  {
   "cell_type": "markdown",
   "metadata": {},
   "source": [
    "<a name='c2w1-ex-6'></a>\n",
    "### Exercise 6\n",
    "\n",
    "Query the feature store.\n",
    "\n",
    "**Instructions**: Use `run` function of the Feature Store query, passing the new query string `query_string_count_by_sentiment`. The output S3 bucket will remain unchanged. You can follow the example above."
   ]
  },
  {
   "cell_type": "code",
   "execution_count": 38,
   "metadata": {},
   "outputs": [
    {
     "data": {
      "text/html": [
       "<div>\n",
       "<style scoped>\n",
       "    .dataframe tbody tr th:only-of-type {\n",
       "        vertical-align: middle;\n",
       "    }\n",
       "\n",
       "    .dataframe tbody tr th {\n",
       "        vertical-align: top;\n",
       "    }\n",
       "\n",
       "    .dataframe thead th {\n",
       "        text-align: right;\n",
       "    }\n",
       "</style>\n",
       "<table border=\"1\" class=\"dataframe\">\n",
       "  <thead>\n",
       "    <tr style=\"text-align: right;\">\n",
       "      <th></th>\n",
       "      <th>sentiment</th>\n",
       "      <th>count_reviews</th>\n",
       "    </tr>\n",
       "  </thead>\n",
       "  <tbody>\n",
       "    <tr>\n",
       "      <th>0</th>\n",
       "      <td>1</td>\n",
       "      <td>2051</td>\n",
       "    </tr>\n",
       "    <tr>\n",
       "      <th>1</th>\n",
       "      <td>-1</td>\n",
       "      <td>2051</td>\n",
       "    </tr>\n",
       "    <tr>\n",
       "      <th>2</th>\n",
       "      <td>0</td>\n",
       "      <td>2051</td>\n",
       "    </tr>\n",
       "  </tbody>\n",
       "</table>\n",
       "</div>"
      ],
      "text/plain": [
       "   sentiment  count_reviews\n",
       "0          1           2051\n",
       "1         -1           2051\n",
       "2          0           2051"
      ]
     },
     "execution_count": 38,
     "metadata": {},
     "output_type": "execute_result"
    }
   ],
   "source": [
    "feature_store_query_2.run(\n",
    "    ### BEGIN SOLUTION - DO NOT delete this comment for grading purposes\n",
    "    query_string=query_string_count_by_sentiment, # Replace None\n",
    "    output_location=output_s3_uri # Replace None\n",
    "    ### END SOLUTION - DO NOT delete this comment for grading purposes\n",
    ")\n",
    "\n",
    "feature_store_query_2.wait()\n",
    "\n",
    "df_count_by_sentiment = feature_store_query_2.as_dataframe()\n",
    "df_count_by_sentiment"
   ]
  },
  {
   "cell_type": "markdown",
   "metadata": {},
   "source": [
    "<a name='c2w1-ex-7'></a>\n",
    "### Exercise 7\n",
    "\n",
    "Visualize the result of the query in the bar plot, showing the count of the reviews by sentiment value.\n",
    "\n",
    "**Instructions**: Pass the resulting data frame `df_count_by_sentiment` into the `barplot` function of the `seaborn` library.\n",
    "\n",
    "```python\n",
    "sns.barplot(\n",
    "    data=..., \n",
    "    x='...', \n",
    "    y='...',\n",
    "    color=\"blue\"\n",
    ")\n",
    "```"
   ]
  },
  {
   "cell_type": "code",
   "execution_count": 40,
   "metadata": {},
   "outputs": [
    {
     "data": {
      "text/plain": [
       "<matplotlib.axes._subplots.AxesSubplot at 0x7fd19c0e2950>"
      ]
     },
     "execution_count": 40,
     "metadata": {},
     "output_type": "execute_result"
    },
    {
     "data": {
      "image/png": "[encoded data removed]",
      "text/plain": [
       "<Figure size 432x288 with 1 Axes>"
      ]
     },
     "metadata": {
      "needs_background": "light"
     },
     "output_type": "display_data"
    }
   ],
   "source": [
    "import seaborn as sns\n",
    "\n",
    "sns.barplot(\n",
    "    ### BEGIN SOLUTION - DO NOT delete this comment for grading purposes\n",
    "    data=df_count_by_sentiment, # Replace None\n",
    "    x='sentiment', # Replace None\n",
    "    y='count_reviews', # Replace None\n",
    "    ### END SOLUTION - DO NOT delete this comment for grading purposes\n",
    "    color=\"blue\"\n",
    ")"
   ]
  },
  {
   "cell_type": "markdown",
   "metadata": {},
   "source": [
    "Upload the notebook and `prepare_data.py` file into S3 bucket for grading purposes.\n",
    "\n",
    "**Note**: you may need to save the file before the upload."
   ]
  },
  {
   "cell_type": "code",
   "execution_count": 41,
   "metadata": {},
   "outputs": [
    {
     "name": "stdout",
     "output_type": "stream",
     "text": [
      "upload: ./C2_W1_Assignment.ipynb to s3://sagemaker-us-east-1-421851816171/C2_W1_Assignment_Learner.ipynb\n",
      "upload: src/prepare_data.py to s3://sagemaker-us-east-1-421851816171/src/C2_W1_prepare_data_Learner.py\n"
     ]
    }
   ],
   "source": [
    "!aws s3 cp ./C2_W1_Assignment.ipynb s3://$bucket/C2_W1_Assignment_Learner.ipynb\n",
    "!aws s3 cp ./src/prepare_data.py s3://$bucket/src/C2_W1_prepare_data_Learner.py"
   ]
  },
  {
   "cell_type": "markdown",
   "metadata": {},
   "source": [
    "Please go to the main lab window and click on `Submit` button (see the `Finish the lab` section of the instructions)."
   ]
  },
  {
   "cell_type": "code",
   "execution_count": 47,
   "metadata": {},
   "outputs": [
    {
     "name": "stdout",
     "output_type": "stream",
     "text": [
      "download: s3://sagemaker-us-east-1-421851816171/feature_store/feature_store_export.tsv to data/feature_store/feature_store_export.tsv\n",
      "download: s3://sagemaker-us-east-1-421851816171/query_results/reviews-feature-store-1629056126/493a5210-e0a0-46c6-b82d-03aa0ab685cc.csv to data/query_results/reviews-feature-store-1629056126/493a5210-e0a0-46c6-b82d-03aa0ab685cc.csv\n",
      "download: s3://sagemaker-us-east-1-421851816171/query_results/reviews-feature-store-1629056126/41c468a2-a3eb-49c9-87f6-b2f3d42de841.csv to data/query_results/reviews-feature-store-1629056126/41c468a2-a3eb-49c9-87f6-b2f3d42de841.csv\n",
      "download: s3://sagemaker-us-east-1-421851816171/C2_W1_Assignment_Learner.ipynb to data/C2_W1_Assignment_Learner.ipynb\n",
      "download: s3://sagemaker-us-east-1-421851816171/query_results/reviews-feature-store-1629056126/493a5210-e0a0-46c6-b82d-03aa0ab685cc.csv.metadata to data/query_results/reviews-feature-store-1629056126/493a5210-e0a0-46c6-b82d-03aa0ab685cc.csv.metadata\n",
      "download: s3://sagemaker-us-east-1-421851816171/query_results/reviews-feature-store-1629056126/41c468a2-a3eb-49c9-87f6-b2f3d42de841.csv.metadata to data/query_results/reviews-feature-store-1629056126/41c468a2-a3eb-49c9-87f6-b2f3d42de841.csv.metadata\n",
      "download: s3://sagemaker-us-east-1-421851816171/reviews-feature-store-1629056126/421851816171/sagemaker/us-east-1/offline-store/reviews-feature-group-1629056126-1629057130/data/year=2021/month=08/day=15/hour=19/20210815T195245Z_0GdaBChgyTY62qZZ.parquet to data/reviews-feature-store-1629056126/421851816171/sagemaker/us-east-1/offline-store/reviews-feature-group-1629056126-1629057130/data/year=2021/month=08/day=15/hour=19/20210815T195245Z_0GdaBChgyTY62qZZ.parquet\n",
      "download: s3://sagemaker-us-east-1-421851816171/reviews-feature-store-1629056126/421851816171/sagemaker/us-east-1/offline-store/reviews-feature-group-1629056126-1629057130/data/year=2021/month=08/day=15/hour=19/20210815T195245Z_25FP29qtUbSO3P03.parquet to data/reviews-feature-store-1629056126/421851816171/sagemaker/us-east-1/offline-store/reviews-feature-group-1629056126-1629057130/data/year=2021/month=08/day=15/hour=19/20210815T195245Z_25FP29qtUbSO3P03.parquet\n",
      "download: s3://sagemaker-us-east-1-421851816171/reviews-feature-store-1629056126/421851816171/sagemaker/us-east-1/offline-store/reviews-feature-group-1629056126-1629057130/data/year=2021/month=08/day=15/hour=19/20210815T195245Z_7L7nNpuQCmUAJ4C8.parquet to data/reviews-feature-store-1629056126/421851816171/sagemaker/us-east-1/offline-store/reviews-feature-group-1629056126-1629057130/data/year=2021/month=08/day=15/hour=19/20210815T195245Z_7L7nNpuQCmUAJ4C8.parquet\n",
      "download: s3://sagemaker-us-east-1-421851816171/reviews-feature-store-1629056126/421851816171/sagemaker/us-east-1/offline-store/reviews-feature-group-1629056126-1629057130/data/year=2021/month=08/day=15/hour=19/20210815T195245Z_5EPtbjdJKGIBvusF.parquet to data/reviews-feature-store-1629056126/421851816171/sagemaker/us-east-1/offline-store/reviews-feature-group-1629056126-1629057130/data/year=2021/month=08/day=15/hour=19/20210815T195245Z_5EPtbjdJKGIBvusF.parquet\n",
      "download: s3://sagemaker-us-east-1-421851816171/reviews-feature-store-1629056126/421851816171/sagemaker/us-east-1/offline-store/reviews-feature-group-1629056126-1629057130/data/year=2021/month=08/day=15/hour=19/20210815T195245Z_5VCFFBCxyYd5hZhM.parquet to data/reviews-feature-store-1629056126/421851816171/sagemaker/us-east-1/offline-store/reviews-feature-group-1629056126-1629057130/data/year=2021/month=08/day=15/hour=19/20210815T195245Z_5VCFFBCxyYd5hZhM.parquet\n",
      "download: s3://sagemaker-us-east-1-421851816171/reviews-feature-store-1629056126/421851816171/sagemaker/us-east-1/offline-store/reviews-feature-group-1629056126-1629057130/data/year=2021/month=08/day=15/hour=19/20210815T195245Z_6aui00xzLwGGLFyA.parquet to data/reviews-feature-store-1629056126/421851816171/sagemaker/us-east-1/offline-store/reviews-feature-group-1629056126-1629057130/data/year=2021/month=08/day=15/hour=19/20210815T195245Z_6aui00xzLwGGLFyA.parquet\n",
      "download: s3://sagemaker-us-east-1-421851816171/reviews-feature-store-1629056126/421851816171/sagemaker/us-east-1/offline-store/reviews-feature-group-1629056126-1629057130/data/year=2021/month=08/day=15/hour=19/20210815T195245Z_CwSctNNMxqbKoDX0.parquet to data/reviews-feature-store-1629056126/421851816171/sagemaker/us-east-1/offline-store/reviews-feature-group-1629056126-1629057130/data/year=2021/month=08/day=15/hour=19/20210815T195245Z_CwSctNNMxqbKoDX0.parquet\n",
      "download: s3://sagemaker-us-east-1-421851816171/reviews-feature-store-1629056126/421851816171/sagemaker/us-east-1/offline-store/reviews-feature-group-1629056126-1629057130/data/year=2021/month=08/day=15/hour=19/20210815T195245Z_CQQHiY80N1tLV4jj.parquet to data/reviews-feature-store-1629056126/421851816171/sagemaker/us-east-1/offline-store/reviews-feature-group-1629056126-1629057130/data/year=2021/month=08/day=15/hour=19/20210815T195245Z_CQQHiY80N1tLV4jj.parquet\n",
      "download: s3://sagemaker-us-east-1-421851816171/reviews-feature-store-1629056126/421851816171/sagemaker/us-east-1/offline-store/reviews-feature-group-1629056126-1629057130/data/year=2021/month=08/day=15/hour=19/20210815T195245Z_Fpi7kNhiAKD961jY.parquet to data/reviews-feature-store-1629056126/421851816171/sagemaker/us-east-1/offline-store/reviews-feature-group-1629056126-1629057130/data/year=2021/month=08/day=15/hour=19/20210815T195245Z_Fpi7kNhiAKD961jY.parquet\n",
      "download: s3://sagemaker-us-east-1-421851816171/reviews-feature-store-1629056126/421851816171/sagemaker/us-east-1/offline-store/reviews-feature-group-1629056126-1629057130/data/year=2021/month=08/day=15/hour=19/20210815T195245Z_ACCxIm3hKhbWavTW.parquet to data/reviews-feature-store-1629056126/421851816171/sagemaker/us-east-1/offline-store/reviews-feature-group-1629056126-1629057130/data/year=2021/month=08/day=15/hour=19/20210815T195245Z_ACCxIm3hKhbWavTW.parquet\n",
      "download: s3://sagemaker-us-east-1-421851816171/reviews-feature-store-1629056126/421851816171/sagemaker/us-east-1/offline-store/reviews-feature-group-1629056126-1629057130/data/year=2021/month=08/day=15/hour=19/20210815T195245Z_9vILvCa9ppJM8HbT.parquet to data/reviews-feature-store-1629056126/421851816171/sagemaker/us-east-1/offline-store/reviews-feature-group-1629056126-1629057130/data/year=2021/month=08/day=15/hour=19/20210815T195245Z_9vILvCa9ppJM8HbT.parquet\n",
      "download: s3://sagemaker-us-east-1-421851816171/reviews-feature-store-1629056126/421851816171/sagemaker/us-east-1/offline-store/reviews-feature-group-1629056126-1629057130/data/year=2021/month=08/day=15/hour=19/20210815T195245Z_B1IsSj6w8lNk5v9w.parquet to data/reviews-feature-store-1629056126/421851816171/sagemaker/us-east-1/offline-store/reviews-feature-group-1629056126-1629057130/data/year=2021/month=08/day=15/hour=19/20210815T195245Z_B1IsSj6w8lNk5v9w.parquet\n",
      "download: s3://sagemaker-us-east-1-421851816171/reviews-feature-store-1629056126/421851816171/sagemaker/us-east-1/offline-store/reviews-feature-group-1629056126-1629057130/data/year=2021/month=08/day=15/hour=19/20210815T195245Z_7ckZQYaFkvGbeoOj.parquet to data/reviews-feature-store-1629056126/421851816171/sagemaker/us-east-1/offline-store/reviews-feature-group-1629056126-1629057130/data/year=2021/month=08/day=15/hour=19/20210815T195245Z_7ckZQYaFkvGbeoOj.parquet\n",
      "download: s3://sagemaker-us-east-1-421851816171/reviews-feature-store-1629056126/421851816171/sagemaker/us-east-1/offline-store/reviews-feature-group-1629056126-1629057130/data/year=2021/month=08/day=15/hour=19/20210815T195245Z_JTfLyUdOC8ExtIxC.parquet to data/reviews-feature-store-1629056126/421851816171/sagemaker/us-east-1/offline-store/reviews-feature-group-1629056126-1629057130/data/year=2021/month=08/day=15/hour=19/20210815T195245Z_JTfLyUdOC8ExtIxC.parquet\n",
      "download: s3://sagemaker-us-east-1-421851816171/reviews-feature-store-1629056126/421851816171/sagemaker/us-east-1/offline-store/reviews-feature-group-1629056126-1629057130/data/year=2021/month=08/day=15/hour=19/20210815T195245Z_BDXPQYhF11hkomLC.parquet to data/reviews-feature-store-1629056126/421851816171/sagemaker/us-east-1/offline-store/reviews-feature-group-1629056126-1629057130/data/year=2021/month=08/day=15/hour=19/20210815T195245Z_BDXPQYhF11hkomLC.parquet\n",
      "download: s3://sagemaker-us-east-1-421851816171/reviews-feature-store-1629056126/421851816171/sagemaker/us-east-1/offline-store/reviews-feature-group-1629056126-1629057130/data/year=2021/month=08/day=15/hour=19/20210815T195245Z_Gn2p3Pw2DJ9oMAcl.parquet to data/reviews-feature-store-1629056126/421851816171/sagemaker/us-east-1/offline-store/reviews-feature-group-1629056126-1629057130/data/year=2021/month=08/day=15/hour=19/20210815T195245Z_Gn2p3Pw2DJ9oMAcl.parquet\n",
      "download: s3://sagemaker-us-east-1-421851816171/reviews-feature-store-1629056126/421851816171/sagemaker/us-east-1/offline-store/reviews-feature-group-1629056126-1629057130/data/year=2021/month=08/day=15/hour=19/20210815T195245Z_NA4XcUiec6MKtfZJ.parquet to data/reviews-feature-store-1629056126/421851816171/sagemaker/us-east-1/offline-store/reviews-feature-group-1629056126-1629057130/data/year=2021/month=08/day=15/hour=19/20210815T195245Z_NA4XcUiec6MKtfZJ.parquet\n",
      "download: s3://sagemaker-us-east-1-421851816171/reviews-feature-store-1629056126/421851816171/sagemaker/us-east-1/offline-store/reviews-feature-group-1629056126-1629057130/data/year=2021/month=08/day=15/hour=19/20210815T195245Z_NQvsxuXniU0eGKFD.parquet to data/reviews-feature-store-1629056126/421851816171/sagemaker/us-east-1/offline-store/reviews-feature-group-1629056126-1629057130/data/year=2021/month=08/day=15/hour=19/20210815T195245Z_NQvsxuXniU0eGKFD.parquet\n",
      "download: s3://sagemaker-us-east-1-421851816171/reviews-feature-store-1629056126/421851816171/sagemaker/us-east-1/offline-store/reviews-feature-group-1629056126-1629057130/data/year=2021/month=08/day=15/hour=19/20210815T195245Z_NmzAAC8CAfmgnwxS.parquet to data/reviews-feature-store-1629056126/421851816171/sagemaker/us-east-1/offline-store/reviews-feature-group-1629056126-1629057130/data/year=2021/month=08/day=15/hour=19/20210815T195245Z_NmzAAC8CAfmgnwxS.parquet\n",
      "download: s3://sagemaker-us-east-1-421851816171/reviews-feature-store-1629056126/421851816171/sagemaker/us-east-1/offline-store/reviews-feature-group-1629056126-1629057130/data/year=2021/month=08/day=15/hour=19/20210815T195245Z_RAMztCuwQUcs5Ocn.parquet to data/reviews-feature-store-1629056126/421851816171/sagemaker/us-east-1/offline-store/reviews-feature-group-1629056126-1629057130/data/year=2021/month=08/day=15/hour=19/20210815T195245Z_RAMztCuwQUcs5Ocn.parquet\n",
      "download: s3://sagemaker-us-east-1-421851816171/reviews-feature-store-1629056126/421851816171/sagemaker/us-east-1/offline-store/reviews-feature-group-1629056126-1629057130/data/year=2021/month=08/day=15/hour=19/20210815T195245Z_OrJWJqfWHzwbmGK7.parquet to data/reviews-feature-store-1629056126/421851816171/sagemaker/us-east-1/offline-store/reviews-feature-group-1629056126-1629057130/data/year=2021/month=08/day=15/hour=19/20210815T195245Z_OrJWJqfWHzwbmGK7.parquet\n",
      "download: s3://sagemaker-us-east-1-421851816171/reviews-feature-store-1629056126/421851816171/sagemaker/us-east-1/offline-store/reviews-feature-group-1629056126-1629057130/data/year=2021/month=08/day=15/hour=19/20210815T195245Z_MMEWTNVL8L7kzsPm.parquet to data/reviews-feature-store-1629056126/421851816171/sagemaker/us-east-1/offline-store/reviews-feature-group-1629056126-1629057130/data/year=2021/month=08/day=15/hour=19/20210815T195245Z_MMEWTNVL8L7kzsPm.parquet\n",
      "download: s3://sagemaker-us-east-1-421851816171/reviews-feature-store-1629056126/421851816171/sagemaker/us-east-1/offline-store/reviews-feature-group-1629056126-1629057130/data/year=2021/month=08/day=15/hour=19/20210815T195245Z_SrqEOWOHyMt9S6su.parquet to data/reviews-feature-store-1629056126/421851816171/sagemaker/us-east-1/offline-store/reviews-feature-group-1629056126-1629057130/data/year=2021/month=08/day=15/hour=19/20210815T195245Z_SrqEOWOHyMt9S6su.parquet\n",
      "download: s3://sagemaker-us-east-1-421851816171/reviews-feature-store-1629056126/421851816171/sagemaker/us-east-1/offline-store/reviews-feature-group-1629056126-1629057130/data/year=2021/month=08/day=15/hour=19/20210815T195245Z_SHCuuj8iqjbFhZy5.parquet to data/reviews-feature-store-1629056126/421851816171/sagemaker/us-east-1/offline-store/reviews-feature-group-1629056126-1629057130/data/year=2021/month=08/day=15/hour=19/20210815T195245Z_SHCuuj8iqjbFhZy5.parquet\n",
      "download: s3://sagemaker-us-east-1-421851816171/reviews-feature-store-1629056126/421851816171/sagemaker/us-east-1/offline-store/reviews-feature-group-1629056126-1629057130/data/year=2021/month=08/day=15/hour=19/20210815T195245Z_RnjRuYBXBYRYk7Jd.parquet to data/reviews-feature-store-1629056126/421851816171/sagemaker/us-east-1/offline-store/reviews-feature-group-1629056126-1629057130/data/year=2021/month=08/day=15/hour=19/20210815T195245Z_RnjRuYBXBYRYk7Jd.parquet\n",
      "download: s3://sagemaker-us-east-1-421851816171/reviews-feature-store-1629056126/421851816171/sagemaker/us-east-1/offline-store/reviews-feature-group-1629056126-1629057130/data/year=2021/month=08/day=15/hour=19/20210815T195245Z_SQZoWHH0XA9rl5RJ.parquet to data/reviews-feature-store-1629056126/421851816171/sagemaker/us-east-1/offline-store/reviews-feature-group-1629056126-1629057130/data/year=2021/month=08/day=15/hour=19/20210815T195245Z_SQZoWHH0XA9rl5RJ.parquet\n",
      "download: s3://sagemaker-us-east-1-421851816171/reviews-feature-store-1629056126/421851816171/sagemaker/us-east-1/offline-store/reviews-feature-group-1629056126-1629057130/data/year=2021/month=08/day=15/hour=19/20210815T195245Z_SMvxriMsVB3F3LcQ.parquet to data/reviews-feature-store-1629056126/421851816171/sagemaker/us-east-1/offline-store/reviews-feature-group-1629056126-1629057130/data/year=2021/month=08/day=15/hour=19/20210815T195245Z_SMvxriMsVB3F3LcQ.parquet\n",
      "download: s3://sagemaker-us-east-1-421851816171/reviews-feature-store-1629056126/421851816171/sagemaker/us-east-1/offline-store/reviews-feature-group-1629056126-1629057130/data/year=2021/month=08/day=15/hour=19/20210815T195245Z_USVqcpArnnCWNb1U.parquet to data/reviews-feature-store-1629056126/421851816171/sagemaker/us-east-1/offline-store/reviews-feature-group-1629056126-1629057130/data/year=2021/month=08/day=15/hour=19/20210815T195245Z_USVqcpArnnCWNb1U.parquet\n",
      "download: s3://sagemaker-us-east-1-421851816171/reviews-feature-store-1629056126/421851816171/sagemaker/us-east-1/offline-store/reviews-feature-group-1629056126-1629057130/data/year=2021/month=08/day=15/hour=19/20210815T195245Z_TVblMMh8gphGTxAv.parquet to data/reviews-feature-store-1629056126/421851816171/sagemaker/us-east-1/offline-store/reviews-feature-group-1629056126-1629057130/data/year=2021/month=08/day=15/hour=19/20210815T195245Z_TVblMMh8gphGTxAv.parquet\n",
      "download: s3://sagemaker-us-east-1-421851816171/reviews-feature-store-1629056126/421851816171/sagemaker/us-east-1/offline-store/reviews-feature-group-1629056126-1629057130/data/year=2021/month=08/day=15/hour=19/20210815T195245Z_Ub44f5DnCHox1VoC.parquet to data/reviews-feature-store-1629056126/421851816171/sagemaker/us-east-1/offline-store/reviews-feature-group-1629056126-1629057130/data/year=2021/month=08/day=15/hour=19/20210815T195245Z_Ub44f5DnCHox1VoC.parquet\n",
      "download: s3://sagemaker-us-east-1-421851816171/reviews-feature-store-1629056126/421851816171/sagemaker/us-east-1/offline-store/reviews-feature-group-1629056126-1629057130/data/year=2021/month=08/day=15/hour=19/20210815T195245Z_a6FFDyuxaF2QBcht.parquet to data/reviews-feature-store-1629056126/421851816171/sagemaker/us-east-1/offline-store/reviews-feature-group-1629056126-1629057130/data/year=2021/month=08/day=15/hour=19/20210815T195245Z_a6FFDyuxaF2QBcht.parquet\n",
      "download: s3://sagemaker-us-east-1-421851816171/reviews-feature-store-1629056126/421851816171/sagemaker/us-east-1/offline-store/reviews-feature-group-1629056126-1629057130/data/year=2021/month=08/day=15/hour=19/20210815T195245Z_d1bq5tvmslMJdjwx.parquet to data/reviews-feature-store-1629056126/421851816171/sagemaker/us-east-1/offline-store/reviews-feature-group-1629056126-1629057130/data/year=2021/month=08/day=15/hour=19/20210815T195245Z_d1bq5tvmslMJdjwx.parquet\n",
      "download: s3://sagemaker-us-east-1-421851816171/reviews-feature-store-1629056126/421851816171/sagemaker/us-east-1/offline-store/reviews-feature-group-1629056126-1629057130/data/year=2021/month=08/day=15/hour=19/20210815T195245Z_VR4vWnNshH0mLeO4.parquet to data/reviews-feature-store-1629056126/421851816171/sagemaker/us-east-1/offline-store/reviews-feature-group-1629056126-1629057130/data/year=2021/month=08/day=15/hour=19/20210815T195245Z_VR4vWnNshH0mLeO4.parquet\n",
      "download: s3://sagemaker-us-east-1-421851816171/reviews-feature-store-1629056126/421851816171/sagemaker/us-east-1/offline-store/reviews-feature-group-1629056126-1629057130/data/year=2021/month=08/day=15/hour=19/20210815T195245Z_ZajnDx1ZlBHYN4ot.parquet to data/reviews-feature-store-1629056126/421851816171/sagemaker/us-east-1/offline-store/reviews-feature-group-1629056126-1629057130/data/year=2021/month=08/day=15/hour=19/20210815T195245Z_ZajnDx1ZlBHYN4ot.parquet\n",
      "download: s3://sagemaker-us-east-1-421851816171/reviews-feature-store-1629056126/421851816171/sagemaker/us-east-1/offline-store/reviews-feature-group-1629056126-1629057130/data/year=2021/month=08/day=15/hour=19/20210815T195245Z_aOCLPYWTOkCr6TU3.parquet to data/reviews-feature-store-1629056126/421851816171/sagemaker/us-east-1/offline-store/reviews-feature-group-1629056126-1629057130/data/year=2021/month=08/day=15/hour=19/20210815T195245Z_aOCLPYWTOkCr6TU3.parquet\n",
      "download: s3://sagemaker-us-east-1-421851816171/reviews-feature-store-1629056126/421851816171/sagemaker/us-east-1/offline-store/reviews-feature-group-1629056126-1629057130/data/year=2021/month=08/day=15/hour=19/20210815T195245Z_a2wPJw4ZjwDKqizJ.parquet to data/reviews-feature-store-1629056126/421851816171/sagemaker/us-east-1/offline-store/reviews-feature-group-1629056126-1629057130/data/year=2021/month=08/day=15/hour=19/20210815T195245Z_a2wPJw4ZjwDKqizJ.parquet\n",
      "download: s3://sagemaker-us-east-1-421851816171/reviews-feature-store-1629056126/421851816171/sagemaker/us-east-1/offline-store/reviews-feature-group-1629056126-1629057130/data/year=2021/month=08/day=15/hour=19/20210815T195245Z_g7IyUQTkbcyRhxzp.parquet to data/reviews-feature-store-1629056126/421851816171/sagemaker/us-east-1/offline-store/reviews-feature-group-1629056126-1629057130/data/year=2021/month=08/day=15/hour=19/20210815T195245Z_g7IyUQTkbcyRhxzp.parquet\n",
      "download: s3://sagemaker-us-east-1-421851816171/reviews-feature-store-1629056126/421851816171/sagemaker/us-east-1/offline-store/reviews-feature-group-1629056126-1629057130/data/year=2021/month=08/day=15/hour=19/20210815T195245Z_ivBcBHI0ZrbHk8hs.parquet to data/reviews-feature-store-1629056126/421851816171/sagemaker/us-east-1/offline-store/reviews-feature-group-1629056126-1629057130/data/year=2021/month=08/day=15/hour=19/20210815T195245Z_ivBcBHI0ZrbHk8hs.parquet\n",
      "download: s3://sagemaker-us-east-1-421851816171/reviews-feature-store-1629056126/421851816171/sagemaker/us-east-1/offline-store/reviews-feature-group-1629056126-1629057130/data/year=2021/month=08/day=15/hour=19/20210815T195245Z_XEwLW4RyuZTlzfyJ.parquet to data/reviews-feature-store-1629056126/421851816171/sagemaker/us-east-1/offline-store/reviews-feature-group-1629056126-1629057130/data/year=2021/month=08/day=15/hour=19/20210815T195245Z_XEwLW4RyuZTlzfyJ.parquet\n",
      "download: s3://sagemaker-us-east-1-421851816171/reviews-feature-store-1629056126/421851816171/sagemaker/us-east-1/offline-store/reviews-feature-group-1629056126-1629057130/data/year=2021/month=08/day=15/hour=19/20210815T195245Z_iap8KI0dH3zi4UV0.parquet to data/reviews-feature-store-1629056126/421851816171/sagemaker/us-east-1/offline-store/reviews-feature-group-1629056126-1629057130/data/year=2021/month=08/day=15/hour=19/20210815T195245Z_iap8KI0dH3zi4UV0.parquet\n",
      "download: s3://sagemaker-us-east-1-421851816171/reviews-feature-store-1629056126/421851816171/sagemaker/us-east-1/offline-store/reviews-feature-group-1629056126-1629057130/data/year=2021/month=08/day=15/hour=19/20210815T195245Z_kxpcfUIhwED5cKHx.parquet to data/reviews-feature-store-1629056126/421851816171/sagemaker/us-east-1/offline-store/reviews-feature-group-1629056126-1629057130/data/year=2021/month=08/day=15/hour=19/20210815T195245Z_kxpcfUIhwED5cKHx.parquet\n",
      "download: s3://sagemaker-us-east-1-421851816171/reviews-feature-store-1629056126/421851816171/sagemaker/us-east-1/offline-store/reviews-feature-group-1629056126-1629057130/data/year=2021/month=08/day=15/hour=19/20210815T195245Z_lE46xy9MC7zoIgVf.parquet to data/reviews-feature-store-1629056126/421851816171/sagemaker/us-east-1/offline-store/reviews-feature-group-1629056126-1629057130/data/year=2021/month=08/day=15/hour=19/20210815T195245Z_lE46xy9MC7zoIgVf.parquet\n",
      "download: s3://sagemaker-us-east-1-421851816171/reviews-feature-store-1629056126/421851816171/sagemaker/us-east-1/offline-store/reviews-feature-group-1629056126-1629057130/data/year=2021/month=08/day=15/hour=19/20210815T195245Z_o9BF3QaP6Fi9pYIJ.parquet to data/reviews-feature-store-1629056126/421851816171/sagemaker/us-east-1/offline-store/reviews-feature-group-1629056126-1629057130/data/year=2021/month=08/day=15/hour=19/20210815T195245Z_o9BF3QaP6Fi9pYIJ.parquet\n",
      "download: s3://sagemaker-us-east-1-421851816171/reviews-feature-store-1629056126/421851816171/sagemaker/us-east-1/offline-store/reviews-feature-group-1629056126-1629057130/data/year=2021/month=08/day=15/hour=19/20210815T195245Z_nWpne4jqdSQPZFXU.parquet to data/reviews-feature-store-1629056126/421851816171/sagemaker/us-east-1/offline-store/reviews-feature-group-1629056126-1629057130/data/year=2021/month=08/day=15/hour=19/20210815T195245Z_nWpne4jqdSQPZFXU.parquet\n",
      "download: s3://sagemaker-us-east-1-421851816171/reviews-feature-store-1629056126/421851816171/sagemaker/us-east-1/offline-store/reviews-feature-group-1629056126-1629057130/data/year=2021/month=08/day=15/hour=19/20210815T195245Z_tDcs3r2qz4d3K5Eo.parquet to data/reviews-feature-store-1629056126/421851816171/sagemaker/us-east-1/offline-store/reviews-feature-group-1629056126-1629057130/data/year=2021/month=08/day=15/hour=19/20210815T195245Z_tDcs3r2qz4d3K5Eo.parquet\n",
      "download: s3://sagemaker-us-east-1-421851816171/reviews-feature-store-1629056126/421851816171/sagemaker/us-east-1/offline-store/reviews-feature-group-1629056126-1629057130/data/year=2021/month=08/day=15/hour=19/20210815T195245Z_tqIzqD7wYkbkWXJS.parquet to data/reviews-feature-store-1629056126/421851816171/sagemaker/us-east-1/offline-store/reviews-feature-group-1629056126-1629057130/data/year=2021/month=08/day=15/hour=19/20210815T195245Z_tqIzqD7wYkbkWXJS.parquet\n",
      "download: s3://sagemaker-us-east-1-421851816171/reviews-feature-store-1629056126/421851816171/sagemaker/us-east-1/offline-store/reviews-feature-group-1629056126-1629057130/data/year=2021/month=08/day=15/hour=19/20210815T195245Z_oqbgq3BqUpkIibxS.parquet to data/reviews-feature-store-1629056126/421851816171/sagemaker/us-east-1/offline-store/reviews-feature-group-1629056126-1629057130/data/year=2021/month=08/day=15/hour=19/20210815T195245Z_oqbgq3BqUpkIibxS.parquet\n",
      "download: s3://sagemaker-us-east-1-421851816171/reviews-feature-store-1629056126/421851816171/sagemaker/us-east-1/offline-store/reviews-feature-group-1629056126-1629057130/data/year=2021/month=08/day=15/hour=19/20210815T195245Z_vQVbsdvyjz0lJZd7.parquet to data/reviews-feature-store-1629056126/421851816171/sagemaker/us-east-1/offline-store/reviews-feature-group-1629056126-1629057130/data/year=2021/month=08/day=15/hour=19/20210815T195245Z_vQVbsdvyjz0lJZd7.parquet\n",
      "download: s3://sagemaker-us-east-1-421851816171/reviews-feature-store-1629056126/421851816171/sagemaker/us-east-1/offline-store/reviews-feature-group-1629056126-1629057130/data/year=2021/month=08/day=15/hour=19/20210815T195245Z_pS9q5D8npgPGRDRi.parquet to data/reviews-feature-store-1629056126/421851816171/sagemaker/us-east-1/offline-store/reviews-feature-group-1629056126-1629057130/data/year=2021/month=08/day=15/hour=19/20210815T195245Z_pS9q5D8npgPGRDRi.parquet\n",
      "download: s3://sagemaker-us-east-1-421851816171/reviews-feature-store-1629056126/421851816171/sagemaker/us-east-1/offline-store/reviews-feature-group-1629056126-1629057130/data/year=2021/month=08/day=15/hour=19/20210815T195245Z_wDVWcJsXJl3tz2xg.parquet to data/reviews-feature-store-1629056126/421851816171/sagemaker/us-east-1/offline-store/reviews-feature-group-1629056126-1629057130/data/year=2021/month=08/day=15/hour=19/20210815T195245Z_wDVWcJsXJl3tz2xg.parquet\n",
      "download: s3://sagemaker-us-east-1-421851816171/reviews-feature-store-1629056126/421851816171/sagemaker/us-east-1/offline-store/reviews-feature-group-1629056126-1629057130/data/year=2021/month=08/day=15/hour=19/20210815T195245Z_ylJngAo23v1Gr58z.parquet to data/reviews-feature-store-1629056126/421851816171/sagemaker/us-east-1/offline-store/reviews-feature-group-1629056126-1629057130/data/year=2021/month=08/day=15/hour=19/20210815T195245Z_ylJngAo23v1Gr58z.parquet\n",
      "download: s3://sagemaker-us-east-1-421851816171/src/C2_W1_prepare_data_Learner.py to data/src/C2_W1_prepare_data_Learner.py\n",
      "download: s3://sagemaker-us-east-1-421851816171/reviews-feature-store-1629056126/421851816171/sagemaker/us-east-1/offline-store/reviews-feature-group-1629056126-1629057130/data/year=2021/month=08/day=15/hour=19/20210815T195245Z_wMHefEkznMJkUtKk.parquet to data/reviews-feature-store-1629056126/421851816171/sagemaker/us-east-1/offline-store/reviews-feature-group-1629056126-1629057130/data/year=2021/month=08/day=15/hour=19/20210815T195245Z_wMHefEkznMJkUtKk.parquet\n",
      "download: s3://sagemaker-us-east-1-421851816171/reviews-feature-store-1629056126/421851816171/sagemaker/us-east-1/offline-store/reviews-feature-group-1629056126-1629057156/reviews-feature-group-16290561262021-08-15T19:52:36.607Z.txt to data/reviews-feature-store-1629056126/421851816171/sagemaker/us-east-1/offline-store/reviews-feature-group-1629056126-1629057156/reviews-feature-group-16290561262021-08-15T19:52:36.607Z.txt\n",
      "download: s3://sagemaker-us-east-1-421851816171/reviews-feature-store-1629056126/421851816171/sagemaker/us-east-1/offline-store/reviews-feature-group-1629056126-1629057130/reviews-feature-group-16290561262021-08-15T19:52:10.658Z.txt to data/reviews-feature-store-1629056126/421851816171/sagemaker/us-east-1/offline-store/reviews-feature-group-1629056126-1629057130/reviews-feature-group-16290561262021-08-15T19:52:10.658Z.txt\n",
      "download: s3://sagemaker-us-east-1-421851816171/reviews-feature-store-1629056126/421851816171/sagemaker/us-east-1/offline-store/reviews-feature-group-1629056126-1629057130/data/year=2021/month=08/day=15/hour=19/20210815T195245Z_vabqvs8dPaGiVfdR.parquet to data/reviews-feature-store-1629056126/421851816171/sagemaker/us-east-1/offline-store/reviews-feature-group-1629056126-1629057130/data/year=2021/month=08/day=15/hour=19/20210815T195245Z_vabqvs8dPaGiVfdR.parquet\n",
      "download: s3://sagemaker-us-east-1-421851816171/reviews-feature-store-1629056126/421851816171/sagemaker/us-east-1/offline-store/reviews-feature-group-1629056126-1629057130/data/year=2021/month=08/day=15/hour=19/20210815T195245Z_zJozSTGW9sYDxBKc.parquet to data/reviews-feature-store-1629056126/421851816171/sagemaker/us-east-1/offline-store/reviews-feature-group-1629056126-1629057130/data/year=2021/month=08/day=15/hour=19/20210815T195245Z_zJozSTGW9sYDxBKc.parquet\n",
      "download: s3://sagemaker-us-east-1-421851816171/sagemaker-scikit-learn-2021-08-15-19-45-04-902/input/code/prepare_data.py to data/sagemaker-scikit-learn-2021-08-15-19-45-04-902/input/code/prepare_data.py\n",
      "download: s3://sagemaker-us-east-1-421851816171/sagemaker-scikit-learn-2021-08-15-19-45-04-902/output/sentiment-validation/part-algo-1-womens_clothing_ecommerce_reviews.tsv to data/sagemaker-scikit-learn-2021-08-15-19-45-04-902/output/sentiment-validation/part-algo-1-womens_clothing_ecommerce_reviews.tsv\n",
      "download: s3://sagemaker-us-east-1-421851816171/sagemaker-scikit-learn-2021-08-15-19-45-04-902/output/sentiment-test/part-algo-1-womens_clothing_ecommerce_reviews.tsv to data/sagemaker-scikit-learn-2021-08-15-19-45-04-902/output/sentiment-test/part-algo-1-womens_clothing_ecommerce_reviews.tsv\n",
      "download: s3://sagemaker-us-east-1-421851816171/sagemaker-scikit-learn-2021-08-15-19-45-04-902/output/sentiment-train/part-algo-1-womens_clothing_ecommerce_reviews.tsv to data/sagemaker-scikit-learn-2021-08-15-19-45-04-902/output/sentiment-train/part-algo-1-womens_clothing_ecommerce_reviews.tsv\n"
     ]
    }
   ],
   "source": [
    "!aws s3 sync s3://sagemaker-us-east-1-421851816171 data"
   ]
  }
 ],
 "metadata": {
  "instance_type": "ml.t3.medium",
  "kernelspec": {
   "display_name": "Python 3 (Data Science)",
   "language": "python",
   "name": "python3__SAGEMAKER_INTERNAL__arn:aws:sagemaker:us-east-1:081325390199:image/datascience-1.0"
  },
  "language_info": {
   "codemirror_mode": {
    "name": "ipython",
    "version": 3
   },
   "file_extension": ".py",
   "mimetype": "text/x-python",
   "name": "python",
   "nbconvert_exporter": "python",
   "pygments_lexer": "ipython3",
   "version": "3.7.10"
  }
 },
 "nbformat": 4,
 "nbformat_minor": 4
}
